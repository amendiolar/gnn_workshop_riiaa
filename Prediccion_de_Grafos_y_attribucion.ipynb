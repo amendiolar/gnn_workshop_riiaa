{
  "nbformat": 4,
  "nbformat_minor": 0,
  "metadata": {
    "accelerator": "GPU",
    "colab": {
      "name": "Prediccion de Grafos y attribucion.ipynb",
      "provenance": [],
      "toc_visible": true
    },
    "kernelspec": {
      "display_name": "Python 3",
      "language": "python",
      "name": "python3"
    },
    "toc": {
      "base_numbering": 1,
      "nav_menu": {},
      "number_sections": true,
      "sideBar": true,
      "skip_h1_title": false,
      "title_cell": "Table of Contents",
      "title_sidebar": "Contents",
      "toc_cell": false,
      "toc_position": {},
      "toc_section_display": true,
      "toc_window_display": false
    },
    "widgets": {
      "application/vnd.jupyter.widget-state+json": {
        "fe45522ef61c4d0d8b48958bbb67d9ee": {
          "model_module": "@jupyter-widgets/controls",
          "model_name": "HBoxModel",
          "state": {
            "_view_name": "HBoxView",
            "_dom_classes": [],
            "_model_name": "HBoxModel",
            "_view_module": "@jupyter-widgets/controls",
            "_model_module_version": "1.5.0",
            "_view_count": null,
            "_view_module_version": "1.5.0",
            "box_style": "",
            "layout": "IPY_MODEL_434582bfe88a49769ad1e1ebb486ded0",
            "_model_module": "@jupyter-widgets/controls",
            "children": [
              "IPY_MODEL_2eeb39b0fd3149fb8cffe75d397d4ebc",
              "IPY_MODEL_83b3b4cdd8e94eeeb2186da4aa253dec"
            ]
          }
        },
        "434582bfe88a49769ad1e1ebb486ded0": {
          "model_module": "@jupyter-widgets/base",
          "model_name": "LayoutModel",
          "state": {
            "_view_name": "LayoutView",
            "grid_template_rows": null,
            "right": null,
            "justify_content": null,
            "_view_module": "@jupyter-widgets/base",
            "overflow": null,
            "_model_module_version": "1.2.0",
            "_view_count": null,
            "flex_flow": null,
            "width": null,
            "min_width": null,
            "border": null,
            "align_items": null,
            "bottom": null,
            "_model_module": "@jupyter-widgets/base",
            "top": null,
            "grid_column": null,
            "overflow_y": null,
            "overflow_x": null,
            "grid_auto_flow": null,
            "grid_area": null,
            "grid_template_columns": null,
            "flex": null,
            "_model_name": "LayoutModel",
            "justify_items": null,
            "grid_row": null,
            "max_height": null,
            "align_content": null,
            "visibility": null,
            "align_self": null,
            "height": null,
            "min_height": null,
            "padding": null,
            "grid_auto_rows": null,
            "grid_gap": null,
            "max_width": null,
            "order": null,
            "_view_module_version": "1.2.0",
            "grid_template_areas": null,
            "object_position": null,
            "object_fit": null,
            "grid_auto_columns": null,
            "margin": null,
            "display": null,
            "left": null
          }
        },
        "2eeb39b0fd3149fb8cffe75d397d4ebc": {
          "model_module": "@jupyter-widgets/controls",
          "model_name": "FloatProgressModel",
          "state": {
            "_view_name": "ProgressView",
            "style": "IPY_MODEL_7ed9b50eecb44ebc88f4c7c4153093f8",
            "_dom_classes": [],
            "description": "100%",
            "_model_name": "FloatProgressModel",
            "bar_style": "success",
            "max": 100,
            "_view_module": "@jupyter-widgets/controls",
            "_model_module_version": "1.5.0",
            "value": 100,
            "_view_count": null,
            "_view_module_version": "1.5.0",
            "orientation": "horizontal",
            "min": 0,
            "description_tooltip": null,
            "_model_module": "@jupyter-widgets/controls",
            "layout": "IPY_MODEL_f8c4240949674e83ae63f91a6fcc4474"
          }
        },
        "83b3b4cdd8e94eeeb2186da4aa253dec": {
          "model_module": "@jupyter-widgets/controls",
          "model_name": "HTMLModel",
          "state": {
            "_view_name": "HTMLView",
            "style": "IPY_MODEL_8c0e3bd75e214022989426a33d590e7b",
            "_dom_classes": [],
            "description": "",
            "_model_name": "HTMLModel",
            "placeholder": "​",
            "_view_module": "@jupyter-widgets/controls",
            "_model_module_version": "1.5.0",
            "value": " 100/100 [00:18&lt;00:00,  5.36it/s, train_loss=4.92, train_MAE=1.79, test_loss=4.74, test_MAE=1.79]",
            "_view_count": null,
            "_view_module_version": "1.5.0",
            "description_tooltip": null,
            "_model_module": "@jupyter-widgets/controls",
            "layout": "IPY_MODEL_a227db178a1d42c391a07bc92721485b"
          }
        },
        "7ed9b50eecb44ebc88f4c7c4153093f8": {
          "model_module": "@jupyter-widgets/controls",
          "model_name": "ProgressStyleModel",
          "state": {
            "_view_name": "StyleView",
            "_model_name": "ProgressStyleModel",
            "description_width": "initial",
            "_view_module": "@jupyter-widgets/base",
            "_model_module_version": "1.5.0",
            "_view_count": null,
            "_view_module_version": "1.2.0",
            "bar_color": null,
            "_model_module": "@jupyter-widgets/controls"
          }
        },
        "f8c4240949674e83ae63f91a6fcc4474": {
          "model_module": "@jupyter-widgets/base",
          "model_name": "LayoutModel",
          "state": {
            "_view_name": "LayoutView",
            "grid_template_rows": null,
            "right": null,
            "justify_content": null,
            "_view_module": "@jupyter-widgets/base",
            "overflow": null,
            "_model_module_version": "1.2.0",
            "_view_count": null,
            "flex_flow": null,
            "width": null,
            "min_width": null,
            "border": null,
            "align_items": null,
            "bottom": null,
            "_model_module": "@jupyter-widgets/base",
            "top": null,
            "grid_column": null,
            "overflow_y": null,
            "overflow_x": null,
            "grid_auto_flow": null,
            "grid_area": null,
            "grid_template_columns": null,
            "flex": null,
            "_model_name": "LayoutModel",
            "justify_items": null,
            "grid_row": null,
            "max_height": null,
            "align_content": null,
            "visibility": null,
            "align_self": null,
            "height": null,
            "min_height": null,
            "padding": null,
            "grid_auto_rows": null,
            "grid_gap": null,
            "max_width": null,
            "order": null,
            "_view_module_version": "1.2.0",
            "grid_template_areas": null,
            "object_position": null,
            "object_fit": null,
            "grid_auto_columns": null,
            "margin": null,
            "display": null,
            "left": null
          }
        },
        "8c0e3bd75e214022989426a33d590e7b": {
          "model_module": "@jupyter-widgets/controls",
          "model_name": "DescriptionStyleModel",
          "state": {
            "_view_name": "StyleView",
            "_model_name": "DescriptionStyleModel",
            "description_width": "",
            "_view_module": "@jupyter-widgets/base",
            "_model_module_version": "1.5.0",
            "_view_count": null,
            "_view_module_version": "1.2.0",
            "_model_module": "@jupyter-widgets/controls"
          }
        },
        "a227db178a1d42c391a07bc92721485b": {
          "model_module": "@jupyter-widgets/base",
          "model_name": "LayoutModel",
          "state": {
            "_view_name": "LayoutView",
            "grid_template_rows": null,
            "right": null,
            "justify_content": null,
            "_view_module": "@jupyter-widgets/base",
            "overflow": null,
            "_model_module_version": "1.2.0",
            "_view_count": null,
            "flex_flow": null,
            "width": null,
            "min_width": null,
            "border": null,
            "align_items": null,
            "bottom": null,
            "_model_module": "@jupyter-widgets/base",
            "top": null,
            "grid_column": null,
            "overflow_y": null,
            "overflow_x": null,
            "grid_auto_flow": null,
            "grid_area": null,
            "grid_template_columns": null,
            "flex": null,
            "_model_name": "LayoutModel",
            "justify_items": null,
            "grid_row": null,
            "max_height": null,
            "align_content": null,
            "visibility": null,
            "align_self": null,
            "height": null,
            "min_height": null,
            "padding": null,
            "grid_auto_rows": null,
            "grid_gap": null,
            "max_width": null,
            "order": null,
            "_view_module_version": "1.2.0",
            "grid_template_areas": null,
            "object_position": null,
            "object_fit": null,
            "grid_auto_columns": null,
            "margin": null,
            "display": null,
            "left": null
          }
        }
      }
    }
  },
  "cells": [
    {
      "cell_type": "markdown",
      "metadata": {
        "ExecuteTime": {
          "end_time": "2020-04-07T13:00:31.536172Z",
          "start_time": "2020-04-07T13:00:31.532636Z"
        },
        "colab_type": "text",
        "id": "v5lACW4qovun"
      },
      "source": [
        "Download colab_utils and import\n",
        "\n",
        "\n",
        "\n",
        "<a href=\"https://colab.research.google.com/github/beangoben/gnn_workshop_riiaa/blob/master/Prediccion de Nodos con Arxiv MAG.ipynb\" target=\"_parent\"><img src=\"https://colab.research.google.com/assets/colab-badge.svg\" alt=\"Open In Colab\"/></a>\n"
      ]
    },
    {
      "cell_type": "code",
      "metadata": {
        "ExecuteTime": {
          "end_time": "2020-04-07T12:59:10.855114Z",
          "start_time": "2020-04-07T12:59:10.540431Z"
        },
        "colab_type": "code",
        "id": "J5HaH9Yvovuo",
        "scrolled": true,
        "colab": {
          "base_uri": "https://localhost:8080/",
          "height": 255
        },
        "outputId": "c7a0aacc-3b09-40ce-b670-15080dd3cb47"
      },
      "source": [
        "!wget https://raw.githubusercontent.com/beangoben/workshop_template/master/colab_utils.py -O colab_utils.py\n",
        "!rm -rf sample_data\n",
        "import colab_utils"
      ],
      "execution_count": null,
      "outputs": [
        {
          "output_type": "stream",
          "text": [
            "--2020-08-25 22:17:48--  https://raw.githubusercontent.com/beangoben/workshop_template/master/colab_utils.py\n",
            "Resolving raw.githubusercontent.com (raw.githubusercontent.com)... 151.101.0.133, 151.101.64.133, 151.101.128.133, ...\n",
            "Connecting to raw.githubusercontent.com (raw.githubusercontent.com)|151.101.0.133|:443... connected.\n",
            "HTTP request sent, awaiting response... 200 OK\n",
            "Length: 7173 (7.0K) [text/plain]\n",
            "Saving to: ‘colab_utils.py’\n",
            "\n",
            "colab_utils.py      100%[===================>]   7.00K  --.-KB/s    in 0s      \n",
            "\n",
            "2020-08-25 22:17:48 (43.1 MB/s) - ‘colab_utils.py’ saved [7173/7173]\n",
            "\n"
          ],
          "name": "stdout"
        },
        {
          "output_type": "stream",
          "text": [
            "/usr/local/lib/python3.6/dist-packages/statsmodels/tools/_testing.py:19: FutureWarning: pandas.util.testing is deprecated. Use the functions in the public API at pandas.testing instead.\n",
            "  import pandas.util.testing as tm\n"
          ],
          "name": "stderr"
        }
      ]
    },
    {
      "cell_type": "markdown",
      "metadata": {
        "colab_type": "text",
        "id": "dYkzGZr5ovuw"
      },
      "source": [
        "Clone github repo, install stuff"
      ]
    },
    {
      "cell_type": "code",
      "metadata": {
        "colab_type": "code",
        "id": "5DA0QH4Tovux",
        "colab": {
          "base_uri": "https://localhost:8080/",
          "height": 1000
        },
        "outputId": "b772dfc2-7fa7-453c-bdfe-d87bba8d1ac6"
      },
      "source": [
        "github_repo = 'https://github.com/beangoben/gnn_workshop_riiaa'\n",
        "colab_utils.clone_repo(github_repo)\n",
        "colab_utils.conda_install_from_yaml()\n",
        "colab_utils.pip_install_from_yaml()"
      ],
      "execution_count": null,
      "outputs": [
        {
          "output_type": "stream",
          "text": [
            "CMD: git clone --recursive https://github.com/beangoben/gnn_workshop_riiaa\n",
            "Conda installing ['rdkit']\n",
            " from channels ['rdkit', 'conda-forge']\n",
            "CMD: wget -c https://repo.anaconda.com/miniconda/Miniconda3-py37_4.8.3-Linux-x86_64.sh\n",
            "CMD: chmod +x Miniconda3-py37_4.8.3-Linux-x86_64.sh\n",
            "CMD: bash ./Miniconda3-py37_4.8.3-Linux-x86_64.sh -b -f -p /usr/local\n",
            "PREFIX=/usr/local\n",
            "Unpacking payload ...\n",
            "Collecting package metadata (current_repodata.json): ...working... done\n",
            "Solving environment: ...working... done\n",
            "## Package Plan ##\n",
            "environment location: /usr/local\n",
            "added / updated specs:\n",
            "- _libgcc_mutex==0.1=main\n",
            "- ca-certificates==2020.1.1=0\n",
            "- certifi==2020.4.5.1=py37_0\n",
            "- cffi==1.14.0=py37he30daa8_1\n",
            "- chardet==3.0.4=py37_1003\n",
            "- conda-package-handling==1.6.1=py37h7b6447c_0\n",
            "- conda==4.8.3=py37_0\n",
            "- cryptography==2.9.2=py37h1ba5d50_0\n",
            "- idna==2.9=py_1\n",
            "- ld_impl_linux-64==2.33.1=h53a641e_7\n",
            "- libedit==3.1.20181209=hc058e9b_0\n",
            "- libffi==3.3=he6710b0_1\n",
            "- libgcc-ng==9.1.0=hdf63c60_0\n",
            "- libstdcxx-ng==9.1.0=hdf63c60_0\n",
            "- ncurses==6.2=he6710b0_1\n",
            "- openssl==1.1.1g=h7b6447c_0\n",
            "- pip==20.0.2=py37_3\n",
            "- pycosat==0.6.3=py37h7b6447c_0\n",
            "- pycparser==2.20=py_0\n",
            "- pyopenssl==19.1.0=py37_0\n",
            "- pysocks==1.7.1=py37_0\n",
            "- python==3.7.7=hcff3b4d_5\n",
            "- readline==8.0=h7b6447c_0\n",
            "- requests==2.23.0=py37_0\n",
            "- ruamel_yaml==0.15.87=py37h7b6447c_0\n",
            "- setuptools==46.4.0=py37_0\n",
            "- six==1.14.0=py37_0\n",
            "- sqlite==3.31.1=h62c20be_1\n",
            "- tk==8.6.8=hbc83047_0\n",
            "- tqdm==4.46.0=py_0\n",
            "- urllib3==1.25.8=py37_0\n",
            "- wheel==0.34.2=py37_0\n",
            "- xz==5.2.5=h7b6447c_0\n",
            "- yaml==0.1.7=had09818_2\n",
            "- zlib==1.2.11=h7b6447c_3\n",
            "The following NEW packages will be INSTALLED:\n",
            "_libgcc_mutex      pkgs/main/linux-64::_libgcc_mutex-0.1-main\n",
            "ca-certificates    pkgs/main/linux-64::ca-certificates-2020.1.1-0\n",
            "certifi            pkgs/main/linux-64::certifi-2020.4.5.1-py37_0\n",
            "cffi               pkgs/main/linux-64::cffi-1.14.0-py37he30daa8_1\n",
            "chardet            pkgs/main/linux-64::chardet-3.0.4-py37_1003\n",
            "conda              pkgs/main/linux-64::conda-4.8.3-py37_0\n",
            "conda-package-han~ pkgs/main/linux-64::conda-package-handling-1.6.1-py37h7b6447c_0\n",
            "cryptography       pkgs/main/linux-64::cryptography-2.9.2-py37h1ba5d50_0\n",
            "idna               pkgs/main/noarch::idna-2.9-py_1\n",
            "ld_impl_linux-64   pkgs/main/linux-64::ld_impl_linux-64-2.33.1-h53a641e_7\n",
            "libedit            pkgs/main/linux-64::libedit-3.1.20181209-hc058e9b_0\n",
            "libffi             pkgs/main/linux-64::libffi-3.3-he6710b0_1\n",
            "libgcc-ng          pkgs/main/linux-64::libgcc-ng-9.1.0-hdf63c60_0\n",
            "libstdcxx-ng       pkgs/main/linux-64::libstdcxx-ng-9.1.0-hdf63c60_0\n",
            "ncurses            pkgs/main/linux-64::ncurses-6.2-he6710b0_1\n",
            "openssl            pkgs/main/linux-64::openssl-1.1.1g-h7b6447c_0\n",
            "pip                pkgs/main/linux-64::pip-20.0.2-py37_3\n",
            "pycosat            pkgs/main/linux-64::pycosat-0.6.3-py37h7b6447c_0\n",
            "pycparser          pkgs/main/noarch::pycparser-2.20-py_0\n",
            "pyopenssl          pkgs/main/linux-64::pyopenssl-19.1.0-py37_0\n",
            "pysocks            pkgs/main/linux-64::pysocks-1.7.1-py37_0\n",
            "python             pkgs/main/linux-64::python-3.7.7-hcff3b4d_5\n",
            "readline           pkgs/main/linux-64::readline-8.0-h7b6447c_0\n",
            "requests           pkgs/main/linux-64::requests-2.23.0-py37_0\n",
            "ruamel_yaml        pkgs/main/linux-64::ruamel_yaml-0.15.87-py37h7b6447c_0\n",
            "setuptools         pkgs/main/linux-64::setuptools-46.4.0-py37_0\n",
            "six                pkgs/main/linux-64::six-1.14.0-py37_0\n",
            "sqlite             pkgs/main/linux-64::sqlite-3.31.1-h62c20be_1\n",
            "tk                 pkgs/main/linux-64::tk-8.6.8-hbc83047_0\n",
            "tqdm               pkgs/main/noarch::tqdm-4.46.0-py_0\n",
            "urllib3            pkgs/main/linux-64::urllib3-1.25.8-py37_0\n",
            "wheel              pkgs/main/linux-64::wheel-0.34.2-py37_0\n",
            "xz                 pkgs/main/linux-64::xz-5.2.5-h7b6447c_0\n",
            "yaml               pkgs/main/linux-64::yaml-0.1.7-had09818_2\n",
            "zlib               pkgs/main/linux-64::zlib-1.2.11-h7b6447c_3\n",
            "Preparing transaction: ...working... done\n",
            "Executing transaction: ...working... done\n",
            "installation finished.\n",
            "WARNING:\n",
            "You currently have a PYTHONPATH environment variable set. This may cause\n",
            "unexpected behavior when running the Python interpreter in Miniconda3.\n",
            "For best results, please verify that your PYTHONPATH only points to\n",
            "directories of packages that are compatible with the Python interpreter\n",
            "in Miniconda3: /usr/local\n",
            "CMD: rm -rf Miniconda3-py37_4.8.3-Linux-x86_64.sh\n",
            "CMD: conda install -q -y  -c rdkit -c conda-forge rdkit\n",
            "Collecting package metadata (current_repodata.json): ...working... done\n",
            "Solving environment: ...working... done\n",
            "## Package Plan ##\n",
            "environment location: /usr/local\n",
            "added / updated specs:\n",
            "- rdkit\n",
            "The following packages will be downloaded:\n",
            "package                    |            build\n",
            "---------------------------|-----------------\n",
            "boost-1.72.0               |   py37h9de70de_0         316 KB  conda-forge\n",
            "boost-cpp-1.72.0           |       h7b93d67_2        16.3 MB  conda-forge\n",
            "bzip2-1.0.8                |       h516909a_3         398 KB  conda-forge\n",
            "ca-certificates-2020.6.20  |       hecda079_0         145 KB  conda-forge\n",
            "cairo-1.16.0               |    h3fc0475_1005         1.5 MB  conda-forge\n",
            "certifi-2020.6.20          |   py37hc8dfbb8_0         151 KB  conda-forge\n",
            "conda-4.8.4                |   py37hc8dfbb8_2         3.1 MB  conda-forge\n",
            "fontconfig-2.13.1          |    h1056068_1002         365 KB  conda-forge\n",
            "freetype-2.10.2            |       he06d7ca_0         905 KB  conda-forge\n",
            "glib-2.65.0                |       h3eb4bd4_0         2.9 MB\n",
            "icu-67.1                   |       he1b5a44_0        12.9 MB  conda-forge\n",
            "jpeg-9d                    |       h516909a_0         266 KB  conda-forge\n",
            "lcms2-2.11                 |       hbd6801e_0         431 KB  conda-forge\n",
            "libblas-3.8.0              |      17_openblas          11 KB  conda-forge\n",
            "libcblas-3.8.0             |      17_openblas          11 KB  conda-forge\n",
            "libgfortran-ng-7.5.0       |      hdf63c60_16         1.3 MB  conda-forge\n",
            "libiconv-1.16              |       h516909a_0         1.4 MB  conda-forge\n",
            "liblapack-3.8.0            |      17_openblas          11 KB  conda-forge\n",
            "libopenblas-0.3.10         |pthreads_hb3c22a3_4         7.8 MB  conda-forge\n",
            "libpng-1.6.37              |       hed695b0_2         359 KB  conda-forge\n",
            "libtiff-4.1.0              |       hc7e4089_6         668 KB  conda-forge\n",
            "libuuid-2.32.1             |    h14c3975_1000          26 KB  conda-forge\n",
            "libwebp-base-1.1.0         |       h516909a_3         845 KB  conda-forge\n",
            "libxcb-1.13                |    h14c3975_1002         396 KB  conda-forge\n",
            "libxml2-2.9.10             |       h68273f3_2         1.3 MB  conda-forge\n",
            "lz4-c-1.9.2                |       he1b5a44_3         203 KB  conda-forge\n",
            "numpy-1.19.1               |   py37h7ea13bd_2         5.2 MB  conda-forge\n",
            "olefile-0.46               |             py_0          31 KB  conda-forge\n",
            "openssl-1.1.1g             |       h516909a_1         2.1 MB  conda-forge\n",
            "pandas-1.1.1               |   py37h3340039_0        10.5 MB  conda-forge\n",
            "pcre-8.44                  |       he1b5a44_0         261 KB  conda-forge\n",
            "pillow-7.2.0               |   py37h718be6c_1         675 KB  conda-forge\n",
            "pixman-0.38.0              |    h516909a_1003         594 KB  conda-forge\n",
            "pthread-stubs-0.4          |    h14c3975_1001           5 KB  conda-forge\n",
            "pycairo-1.19.1             |   py37h01af8b0_3          77 KB  conda-forge\n",
            "python-dateutil-2.8.1      |             py_0         220 KB  conda-forge\n",
            "python_abi-3.7             |          1_cp37m           4 KB  conda-forge\n",
            "pytz-2020.1                |     pyh9f0ad1d_0         227 KB  conda-forge\n",
            "rdkit-2020.03.5            |   py37h3f38cc2_0        24.7 MB  conda-forge\n",
            "tk-8.6.10                  |       hed695b0_0         3.2 MB  conda-forge\n",
            "xorg-kbproto-1.0.7         |    h14c3975_1002          26 KB  conda-forge\n",
            "xorg-libice-1.0.10         |       h516909a_0          57 KB  conda-forge\n",
            "xorg-libsm-1.2.3           |    h84519dc_1000          25 KB  conda-forge\n",
            "xorg-libx11-1.6.12         |       h516909a_0         917 KB  conda-forge\n",
            "xorg-libxau-1.0.9          |       h14c3975_0          13 KB  conda-forge\n",
            "xorg-libxdmcp-1.1.3        |       h516909a_0          18 KB  conda-forge\n",
            "xorg-libxext-1.3.4         |       h516909a_0          51 KB  conda-forge\n",
            "xorg-libxrender-0.9.10     |    h516909a_1002          31 KB  conda-forge\n",
            "xorg-renderproto-0.11.1    |    h14c3975_1002           8 KB  conda-forge\n",
            "xorg-xextproto-7.3.0       |    h14c3975_1002          27 KB  conda-forge\n",
            "xorg-xproto-7.0.31         |    h14c3975_1007          72 KB  conda-forge\n",
            "zstd-1.4.5                 |       h6597ccf_2         712 KB  conda-forge\n",
            "------------------------------------------------------------\n",
            "Total:       103.3 MB\n",
            "The following NEW packages will be INSTALLED:\n",
            "boost              conda-forge/linux-64::boost-1.72.0-py37h9de70de_0\n",
            "boost-cpp          conda-forge/linux-64::boost-cpp-1.72.0-h7b93d67_2\n",
            "bzip2              conda-forge/linux-64::bzip2-1.0.8-h516909a_3\n",
            "cairo              conda-forge/linux-64::cairo-1.16.0-h3fc0475_1005\n",
            "fontconfig         conda-forge/linux-64::fontconfig-2.13.1-h1056068_1002\n",
            "freetype           conda-forge/linux-64::freetype-2.10.2-he06d7ca_0\n",
            "glib               pkgs/main/linux-64::glib-2.65.0-h3eb4bd4_0\n",
            "icu                conda-forge/linux-64::icu-67.1-he1b5a44_0\n",
            "jpeg               conda-forge/linux-64::jpeg-9d-h516909a_0\n",
            "lcms2              conda-forge/linux-64::lcms2-2.11-hbd6801e_0\n",
            "libblas            conda-forge/linux-64::libblas-3.8.0-17_openblas\n",
            "libcblas           conda-forge/linux-64::libcblas-3.8.0-17_openblas\n",
            "libgfortran-ng     conda-forge/linux-64::libgfortran-ng-7.5.0-hdf63c60_16\n",
            "libiconv           conda-forge/linux-64::libiconv-1.16-h516909a_0\n",
            "liblapack          conda-forge/linux-64::liblapack-3.8.0-17_openblas\n",
            "libopenblas        conda-forge/linux-64::libopenblas-0.3.10-pthreads_hb3c22a3_4\n",
            "libpng             conda-forge/linux-64::libpng-1.6.37-hed695b0_2\n",
            "libtiff            conda-forge/linux-64::libtiff-4.1.0-hc7e4089_6\n",
            "libuuid            conda-forge/linux-64::libuuid-2.32.1-h14c3975_1000\n",
            "libwebp-base       conda-forge/linux-64::libwebp-base-1.1.0-h516909a_3\n",
            "libxcb             conda-forge/linux-64::libxcb-1.13-h14c3975_1002\n",
            "libxml2            conda-forge/linux-64::libxml2-2.9.10-h68273f3_2\n",
            "lz4-c              conda-forge/linux-64::lz4-c-1.9.2-he1b5a44_3\n",
            "numpy              conda-forge/linux-64::numpy-1.19.1-py37h7ea13bd_2\n",
            "olefile            conda-forge/noarch::olefile-0.46-py_0\n",
            "pandas             conda-forge/linux-64::pandas-1.1.1-py37h3340039_0\n",
            "pcre               conda-forge/linux-64::pcre-8.44-he1b5a44_0\n",
            "pillow             conda-forge/linux-64::pillow-7.2.0-py37h718be6c_1\n",
            "pixman             conda-forge/linux-64::pixman-0.38.0-h516909a_1003\n",
            "pthread-stubs      conda-forge/linux-64::pthread-stubs-0.4-h14c3975_1001\n",
            "pycairo            conda-forge/linux-64::pycairo-1.19.1-py37h01af8b0_3\n",
            "python-dateutil    conda-forge/noarch::python-dateutil-2.8.1-py_0\n",
            "python_abi         conda-forge/linux-64::python_abi-3.7-1_cp37m\n",
            "pytz               conda-forge/noarch::pytz-2020.1-pyh9f0ad1d_0\n",
            "rdkit              conda-forge/linux-64::rdkit-2020.03.5-py37h3f38cc2_0\n",
            "xorg-kbproto       conda-forge/linux-64::xorg-kbproto-1.0.7-h14c3975_1002\n",
            "xorg-libice        conda-forge/linux-64::xorg-libice-1.0.10-h516909a_0\n",
            "xorg-libsm         conda-forge/linux-64::xorg-libsm-1.2.3-h84519dc_1000\n",
            "xorg-libx11        conda-forge/linux-64::xorg-libx11-1.6.12-h516909a_0\n",
            "xorg-libxau        conda-forge/linux-64::xorg-libxau-1.0.9-h14c3975_0\n",
            "xorg-libxdmcp      conda-forge/linux-64::xorg-libxdmcp-1.1.3-h516909a_0\n",
            "xorg-libxext       conda-forge/linux-64::xorg-libxext-1.3.4-h516909a_0\n",
            "xorg-libxrender    conda-forge/linux-64::xorg-libxrender-0.9.10-h516909a_1002\n",
            "xorg-renderproto   conda-forge/linux-64::xorg-renderproto-0.11.1-h14c3975_1002\n",
            "xorg-xextproto     conda-forge/linux-64::xorg-xextproto-7.3.0-h14c3975_1002\n",
            "xorg-xproto        conda-forge/linux-64::xorg-xproto-7.0.31-h14c3975_1007\n",
            "zstd               conda-forge/linux-64::zstd-1.4.5-h6597ccf_2\n",
            "The following packages will be UPDATED:\n",
            "ca-certificates     pkgs/main::ca-certificates-2020.1.1-0 --> conda-forge::ca-certificates-2020.6.20-hecda079_0\n",
            "certifi              pkgs/main::certifi-2020.4.5.1-py37_0 --> conda-forge::certifi-2020.6.20-py37hc8dfbb8_0\n",
            "conda                       pkgs/main::conda-4.8.3-py37_0 --> conda-forge::conda-4.8.4-py37hc8dfbb8_2\n",
            "openssl              pkgs/main::openssl-1.1.1g-h7b6447c_0 --> conda-forge::openssl-1.1.1g-h516909a_1\n",
            "tk                         pkgs/main::tk-8.6.8-hbc83047_0 --> conda-forge::tk-8.6.10-hed695b0_0\n",
            "Preparing transaction: ...working... done\n",
            "Verifying transaction: ...working... done\n",
            "Executing transaction: ...working... done\n",
            "Append \"/usr/local/lib/python3.7/site-packages/\" to sys.path, or use \"colab_utils.add_conda_dir_to_python_path()\"!\n",
            "pip installing ['tensorflow-probability', 'dm-sonnet', 'graph_nets', 'umap-learn', 'littleballoffur', 'ogb']\n",
            "CMD: pip install  tensorflow-probability\n",
            "Collecting tensorflow-probability\n",
            "Downloading tensorflow_probability-0.11.0-py2.py3-none-any.whl (4.3 MB)\n",
            "Requirement already satisfied: six>=1.10.0 in /usr/local/lib/python3.7/site-packages (from tensorflow-probability) (1.14.0)\n",
            "Collecting gast>=0.3.2\n",
            "Downloading gast-0.4.0-py3-none-any.whl (9.8 kB)\n",
            "Collecting cloudpickle==1.3\n",
            "Downloading cloudpickle-1.3.0-py2.py3-none-any.whl (26 kB)\n",
            "Requirement already satisfied: numpy>=1.13.3 in /usr/local/lib/python3.7/site-packages (from tensorflow-probability) (1.19.1)\n",
            "Collecting decorator\n",
            "Downloading decorator-4.4.2-py2.py3-none-any.whl (9.2 kB)\n",
            "Collecting dm-tree\n",
            "Downloading dm_tree-0.1.5-cp37-cp37m-manylinux1_x86_64.whl (294 kB)\n",
            "Installing collected packages: gast, cloudpickle, decorator, dm-tree, tensorflow-probability\n",
            "Successfully installed cloudpickle-1.3.0 decorator-4.4.2 dm-tree-0.1.5 gast-0.4.0 tensorflow-probability-0.11.0\n",
            "CMD: pip install  dm-sonnet\n",
            "Collecting dm-sonnet\n",
            "Downloading dm_sonnet-2.0.0-py3-none-any.whl (254 kB)\n",
            "Collecting tabulate>=0.7.5\n",
            "Downloading tabulate-0.8.7-py3-none-any.whl (24 kB)\n",
            "Requirement already satisfied: numpy>=1.16.3 in /usr/local/lib/python3.7/site-packages (from dm-sonnet) (1.19.1)\n",
            "Requirement already satisfied: dm-tree>=0.1.1 in /usr/local/lib/python3.7/site-packages (from dm-sonnet) (0.1.5)\n",
            "Requirement already satisfied: six>=1.12.0 in /usr/local/lib/python3.7/site-packages (from dm-sonnet) (1.14.0)\n",
            "Collecting absl-py>=0.7.1\n",
            "Downloading absl_py-0.10.0-py3-none-any.whl (127 kB)\n",
            "Collecting wrapt>=1.11.1\n",
            "Downloading wrapt-1.12.1.tar.gz (27 kB)\n",
            "Building wheels for collected packages: wrapt\n",
            "Building wheel for wrapt (setup.py): started\n",
            "Building wheel for wrapt (setup.py): finished with status 'done'\n",
            "Created wheel for wrapt: filename=wrapt-1.12.1-cp37-cp37m-linux_x86_64.whl size=70929 sha256=1984da561183eff2a1ae8695ea7366a6eaeb443882ee7b9ac21e5865d53f570d\n",
            "Stored in directory: /root/.cache/pip/wheels/62/76/4c/aa25851149f3f6d9785f6c869387ad82b3fd37582fa8147ac6\n",
            "Successfully built wrapt\n",
            "Installing collected packages: tabulate, absl-py, wrapt, dm-sonnet\n",
            "Successfully installed absl-py-0.10.0 dm-sonnet-2.0.0 tabulate-0.8.7 wrapt-1.12.1\n",
            "CMD: pip install  graph_nets\n",
            "Collecting graph_nets\n",
            "Downloading graph_nets-1.1.0.tar.gz (76 kB)\n",
            "Requirement already satisfied: absl-py in /usr/local/lib/python3.7/site-packages (from graph_nets) (0.10.0)\n",
            "Requirement already satisfied: dm-sonnet in /usr/local/lib/python3.7/site-packages (from graph_nets) (2.0.0)\n",
            "Requirement already satisfied: dm-tree in /usr/local/lib/python3.7/site-packages (from graph_nets) (0.1.5)\n",
            "Collecting future\n",
            "Downloading future-0.18.2.tar.gz (829 kB)\n",
            "Collecting networkx\n",
            "Downloading networkx-2.5-py3-none-any.whl (1.6 MB)\n",
            "Requirement already satisfied: numpy in /usr/local/lib/python3.7/site-packages (from graph_nets) (1.19.1)\n",
            "Requirement already satisfied: setuptools in /usr/local/lib/python3.7/site-packages (from graph_nets) (46.4.0.post20200518)\n",
            "Requirement already satisfied: six in /usr/local/lib/python3.7/site-packages (from graph_nets) (1.14.0)\n",
            "Requirement already satisfied: tabulate>=0.7.5 in /usr/local/lib/python3.7/site-packages (from dm-sonnet->graph_nets) (0.8.7)\n",
            "Requirement already satisfied: wrapt>=1.11.1 in /usr/local/lib/python3.7/site-packages (from dm-sonnet->graph_nets) (1.12.1)\n",
            "Requirement already satisfied: decorator>=4.3.0 in /usr/local/lib/python3.7/site-packages (from networkx->graph_nets) (4.4.2)\n",
            "Building wheels for collected packages: graph-nets, future\n",
            "Building wheel for graph-nets (setup.py): started\n",
            "Building wheel for graph-nets (setup.py): finished with status 'done'\n",
            "Created wheel for graph-nets: filename=graph_nets-1.1.0-py3-none-any.whl size=91864 sha256=471e625f2862d46f164d5ac91ac725c06342cae8b0177a36e271c43f5a3b074e\n",
            "Stored in directory: /root/.cache/pip/wheels/44/3d/65/f2e8f0a8d0b28bea5f168fc717261a67303d2183a3e450c812\n",
            "Building wheel for future (setup.py): started\n",
            "Building wheel for future (setup.py): finished with status 'done'\n",
            "Created wheel for future: filename=future-0.18.2-py3-none-any.whl size=491058 sha256=eca592dedce563b82dc9308b3b0f46ff5446c9725552620f158fe53347dc2b57\n",
            "Stored in directory: /root/.cache/pip/wheels/56/b0/fe/4410d17b32f1f0c3cf54cdfb2bc04d7b4b8f4ae377e2229ba0\n",
            "Successfully built graph-nets future\n",
            "Installing collected packages: future, networkx, graph-nets\n",
            "Successfully installed future-0.18.2 graph-nets-1.1.0 networkx-2.5\n",
            "CMD: pip install  umap-learn\n",
            "Collecting umap-learn\n",
            "Downloading umap-learn-0.4.6.tar.gz (69 kB)\n",
            "Requirement already satisfied: numpy>=1.17 in /usr/local/lib/python3.7/site-packages (from umap-learn) (1.19.1)\n",
            "Collecting scikit-learn>=0.20\n",
            "Downloading scikit_learn-0.23.2-cp37-cp37m-manylinux1_x86_64.whl (6.8 MB)\n",
            "Collecting scipy>=1.3.1\n",
            "Downloading scipy-1.5.2-cp37-cp37m-manylinux1_x86_64.whl (25.9 MB)\n",
            "Collecting numba!=0.47,>=0.46\n",
            "Downloading numba-0.51.0-cp37-cp37m-manylinux2014_x86_64.whl (3.1 MB)\n",
            "Collecting joblib>=0.11\n",
            "Downloading joblib-0.16.0-py3-none-any.whl (300 kB)\n",
            "Collecting threadpoolctl>=2.0.0\n",
            "Downloading threadpoolctl-2.1.0-py3-none-any.whl (12 kB)\n",
            "Requirement already satisfied: setuptools in /usr/local/lib/python3.7/site-packages (from numba!=0.47,>=0.46->umap-learn) (46.4.0.post20200518)\n",
            "Collecting llvmlite<0.35,>=0.34.0.dev0\n",
            "Downloading llvmlite-0.34.0-cp37-cp37m-manylinux2010_x86_64.whl (24.6 MB)\n",
            "Building wheels for collected packages: umap-learn\n",
            "Building wheel for umap-learn (setup.py): started\n",
            "Building wheel for umap-learn (setup.py): finished with status 'done'\n",
            "Created wheel for umap-learn: filename=umap_learn-0.4.6-py3-none-any.whl size=67950 sha256=7b3ba5177f3e40494e42893826ab22ae675da2aea12ffd985f8895e06624d930\n",
            "Stored in directory: /root/.cache/pip/wheels/14/9a/ed/66159a5e13d3b6341b6542cf4f1faf478834753bed5ecaef8d\n",
            "Successfully built umap-learn\n",
            "Installing collected packages: scipy, joblib, threadpoolctl, scikit-learn, llvmlite, numba, umap-learn\n",
            "Successfully installed joblib-0.16.0 llvmlite-0.34.0 numba-0.51.0 scikit-learn-0.23.2 scipy-1.5.2 threadpoolctl-2.1.0 umap-learn-0.4.6\n",
            "CMD: pip install  littleballoffur\n",
            "Collecting littleballoffur\n",
            "Downloading littleballoffur-1.0.4.tar.gz (16 kB)\n",
            "Requirement already satisfied: networkx in /usr/local/lib/python3.7/site-packages (from littleballoffur) (2.5)\n",
            "Requirement already satisfied: tqdm in /usr/local/lib/python3.7/site-packages (from littleballoffur) (4.46.0)\n",
            "Collecting python-louvain\n",
            "Downloading python-louvain-0.14.tar.gz (19 kB)\n",
            "Requirement already satisfied: pandas in /usr/local/lib/python3.7/site-packages (from littleballoffur) (1.1.1)\n",
            "Requirement already satisfied: numpy in /usr/local/lib/python3.7/site-packages (from littleballoffur) (1.19.1)\n",
            "Requirement already satisfied: six in /usr/local/lib/python3.7/site-packages (from littleballoffur) (1.14.0)\n",
            "Requirement already satisfied: scipy in /usr/local/lib/python3.7/site-packages (from littleballoffur) (1.5.2)\n",
            "Collecting networkit\n",
            "Downloading networkit-7.0.tar.gz (1.9 MB)\n",
            "Requirement already satisfied: decorator>=4.3.0 in /usr/local/lib/python3.7/site-packages (from networkx->littleballoffur) (4.4.2)\n",
            "Requirement already satisfied: python-dateutil>=2.7.3 in /usr/local/lib/python3.7/site-packages (from pandas->littleballoffur) (2.8.1)\n",
            "Requirement already satisfied: pytz>=2017.2 in /usr/local/lib/python3.7/site-packages (from pandas->littleballoffur) (2020.1)\n",
            "Building wheels for collected packages: littleballoffur, python-louvain, networkit\n",
            "Building wheel for littleballoffur (setup.py): started\n",
            "Building wheel for littleballoffur (setup.py): finished with status 'done'\n",
            "Created wheel for littleballoffur: filename=littleballoffur-1.0.4-py3-none-any.whl size=33045 sha256=dd8e76649b85a395d7107499ca5cd41f4f35ecc7c2c3f9a142531252a832b014\n",
            "Stored in directory: /root/.cache/pip/wheels/dc/33/4a/66559b3e766bdc66c6ec2ecdaad3dc62f1d15b1acde163c732\n",
            "Building wheel for python-louvain (setup.py): started\n",
            "Building wheel for python-louvain (setup.py): finished with status 'done'\n",
            "Created wheel for python-louvain: filename=python_louvain-0.14-py3-none-any.whl size=9291 sha256=fce402aba7974f2a61c0c12a4c48af4b49a20ffeca219d50b0b5df8ebff9f253\n",
            "Stored in directory: /root/.cache/pip/wheels/be/2d/1f/87004485ec41ab6f625f9320fd23d4755f2d7fe8cbc60d85dd\n",
            "Building wheel for networkit (setup.py): started\n",
            "Building wheel for networkit (setup.py): finished with status 'done'\n",
            "Created wheel for networkit: filename=networkit-7.0-cp37-cp37m-linux_x86_64.whl size=7136340 sha256=ee455c3af5c6db62e7d787d1f70accad80e206b935ec61a503308c98338b7f5a\n",
            "Stored in directory: /root/.cache/pip/wheels/76/c5/0c/ebe0fae39ca50b79fb8554a35dbef168cd1931ab34272e43c5\n",
            "Successfully built littleballoffur python-louvain networkit\n",
            "Installing collected packages: python-louvain, networkit, littleballoffur\n",
            "Successfully installed littleballoffur-1.0.4 networkit-7.0 python-louvain-0.14\n",
            "CMD: pip install  ogb\n",
            "Collecting ogb\n",
            "Downloading ogb-1.2.2-py3-none-any.whl (45 kB)\n",
            "Requirement already satisfied: six>=1.12.0 in /usr/local/lib/python3.7/site-packages (from ogb) (1.14.0)\n",
            "Requirement already satisfied: urllib3>=1.24.0 in /usr/local/lib/python3.7/site-packages (from ogb) (1.25.8)\n",
            "Requirement already satisfied: tqdm>=4.29.0 in /usr/local/lib/python3.7/site-packages (from ogb) (4.46.0)\n",
            "Requirement already satisfied: numpy>=1.16.0 in /usr/local/lib/python3.7/site-packages (from ogb) (1.19.1)\n",
            "Requirement already satisfied: scikit-learn>=0.20.0 in /usr/local/lib/python3.7/site-packages (from ogb) (0.23.2)\n",
            "Requirement already satisfied: pandas>=0.24.0 in /usr/local/lib/python3.7/site-packages (from ogb) (1.1.1)\n",
            "Collecting outdated>=0.2.0\n",
            "Downloading outdated-0.2.0.tar.gz (4.0 kB)\n",
            "Collecting torch>=1.2.0\n",
            "Downloading torch-1.6.0-cp37-cp37m-manylinux1_x86_64.whl (748.8 MB)\n",
            "Requirement already satisfied: threadpoolctl>=2.0.0 in /usr/local/lib/python3.7/site-packages (from scikit-learn>=0.20.0->ogb) (2.1.0)\n",
            "Requirement already satisfied: joblib>=0.11 in /usr/local/lib/python3.7/site-packages (from scikit-learn>=0.20.0->ogb) (0.16.0)\n",
            "Requirement already satisfied: scipy>=0.19.1 in /usr/local/lib/python3.7/site-packages (from scikit-learn>=0.20.0->ogb) (1.5.2)\n",
            "Requirement already satisfied: pytz>=2017.2 in /usr/local/lib/python3.7/site-packages (from pandas>=0.24.0->ogb) (2020.1)\n",
            "Requirement already satisfied: python-dateutil>=2.7.3 in /usr/local/lib/python3.7/site-packages (from pandas>=0.24.0->ogb) (2.8.1)\n",
            "Collecting littleutils\n",
            "Downloading littleutils-0.2.2.tar.gz (6.6 kB)\n",
            "Requirement already satisfied: requests in /usr/local/lib/python3.7/site-packages (from outdated>=0.2.0->ogb) (2.23.0)\n",
            "Requirement already satisfied: future in /usr/local/lib/python3.7/site-packages (from torch>=1.2.0->ogb) (0.18.2)\n",
            "Requirement already satisfied: chardet<4,>=3.0.2 in /usr/local/lib/python3.7/site-packages (from requests->outdated>=0.2.0->ogb) (3.0.4)\n",
            "Requirement already satisfied: idna<3,>=2.5 in /usr/local/lib/python3.7/site-packages (from requests->outdated>=0.2.0->ogb) (2.9)\n",
            "Requirement already satisfied: certifi>=2017.4.17 in /usr/local/lib/python3.7/site-packages (from requests->outdated>=0.2.0->ogb) (2020.6.20)\n",
            "Building wheels for collected packages: outdated, littleutils\n",
            "Building wheel for outdated (setup.py): started\n",
            "Building wheel for outdated (setup.py): finished with status 'done'\n",
            "Created wheel for outdated: filename=outdated-0.2.0-py3-none-any.whl size=4960 sha256=1fe93350954740fa1b1a4742c23ef172c6bd1e231ee24314637c4953a0d00f96\n",
            "Stored in directory: /root/.cache/pip/wheels/6f/cd/a2/e49170b2cf59e88b952f3414f25a54d9f16f033bded4aaab26\n",
            "Building wheel for littleutils (setup.py): started\n",
            "Building wheel for littleutils (setup.py): finished with status 'done'\n",
            "Created wheel for littleutils: filename=littleutils-0.2.2-py3-none-any.whl size=7048 sha256=df37a22625cfec1c6db635300dc2678daa11dfc849b1dfbd80459a4a0ed178ad\n",
            "Stored in directory: /root/.cache/pip/wheels/d6/64/cd/32819b511a488e4993f2fab909a95330289c3f4e0f6ef4676d\n",
            "Successfully built outdated littleutils\n",
            "Installing collected packages: littleutils, outdated, torch, ogb\n",
            "Successfully installed littleutils-0.2.2 ogb-1.2.2 outdated-0.2.0 torch-1.6.0\n"
          ],
          "name": "stdout"
        }
      ]
    },
    {
      "cell_type": "markdown",
      "metadata": {
        "colab_type": "text",
        "id": "T-CPqE95ovu1"
      },
      "source": [
        "# Import modules\n"
      ]
    },
    {
      "cell_type": "code",
      "metadata": {
        "ExecuteTime": {
          "end_time": "2020-08-25T13:16:46.055749Z",
          "start_time": "2020-08-25T13:16:39.853397Z"
        },
        "colab_type": "code",
        "id": "l7xIWY9Qovu8",
        "colab": {
          "base_uri": "https://localhost:8080/",
          "height": 118
        },
        "outputId": "fd9825ca-f27e-41f1-c719-b09600b9a5b1"
      },
      "source": [
        "import os\n",
        "from collections import OrderedDict, defaultdict\n",
        "\n",
        "import tqdm.auto as tqdm\n",
        "import colab_utils \n",
        "colab_utils.add_conda_dir_to_python_path()\n",
        "\n",
        "import numpy as np\n",
        "import scipy as sp\n",
        "import pandas as pd\n",
        "import matplotlib.pyplot as plt\n",
        "import seaborn as sns\n",
        "import altair as alt\n",
        "import networkx as nx\n",
        "\n",
        "import sklearn\n",
        "import umap\n",
        "import tensorflow as tf\n",
        "import sonnet as snt\n",
        "import graph_nets as gn\n",
        "\n",
        "import rdkit\n",
        "import rdkit.Chem\n",
        "import rdkit.Chem.AllChem as Chem\n",
        "from rdkit.Chem import AllChem, Draw\n",
        "import rdkit.Chem.rdFingerprintGenerator as rdFP\n",
        "from rdkit.Chem.Draw import IPythonConsole\n",
        "\n",
        "colab_utils.print_module_versions([umap, tf, snt, nx, rdkit])\n",
        "print(f'Tiene GPU? {tf.config.list_physical_devices(\"gpu\")}')\n",
        "colab_utils.matplotlib_settings()"
      ],
      "execution_count": null,
      "outputs": [
        {
          "output_type": "stream",
          "text": [
            "umap      : 0.4.6\n",
            "tensorflow: 2.3.0\n",
            "sonnet    : 2.0.0\n",
            "networkx  : 2.4\n",
            "rdkit     : 2020.03.5\n",
            "Tiene GPU? []\n"
          ],
          "name": "stdout"
        }
      ]
    },
    {
      "cell_type": "markdown",
      "metadata": {
        "colab_type": "text",
        "id": "KjDRL90MpxOV"
      },
      "source": [
        "## Lodear dataset (grafos moleculares)"
      ]
    },
    {
      "cell_type": "code",
      "metadata": {
        "id": "65vXXeMbvJv4",
        "colab_type": "code",
        "colab": {
          "base_uri": "https://localhost:8080/",
          "height": 202
        },
        "outputId": "f31022f0-93de-4662-fc01-e65f693e0c83"
      },
      "source": [
        "!wget https://raw.githubusercontent.com/deepchem/deepchem/master/datasets/delaney-processed.csv"
      ],
      "execution_count": null,
      "outputs": [
        {
          "output_type": "stream",
          "text": [
            "--2020-08-25 22:29:06--  https://raw.githubusercontent.com/deepchem/deepchem/master/datasets/delaney-processed.csv\n",
            "Resolving raw.githubusercontent.com (raw.githubusercontent.com)... 151.101.0.133, 151.101.64.133, 151.101.128.133, ...\n",
            "Connecting to raw.githubusercontent.com (raw.githubusercontent.com)|151.101.0.133|:443... connected.\n",
            "HTTP request sent, awaiting response... 200 OK\n",
            "Length: 96699 (94K) [text/plain]\n",
            "Saving to: ‘delaney-processed.csv’\n",
            "\n",
            "delaney-processed.c 100%[===================>]  94.43K  --.-KB/s    in 0.008s  \n",
            "\n",
            "2020-08-25 22:29:07 (11.4 MB/s) - ‘delaney-processed.csv’ saved [96699/96699]\n",
            "\n"
          ],
          "name": "stdout"
        }
      ]
    },
    {
      "cell_type": "code",
      "metadata": {
        "ExecuteTime": {
          "end_time": "2020-08-25T13:16:47.326454Z",
          "start_time": "2020-08-25T13:16:46.060420Z"
        },
        "colab_type": "code",
        "id": "SQ8JKbalphMa",
        "colab": {
          "base_uri": "https://localhost:8080/",
          "height": 568
        },
        "outputId": "0a890a9d-3902-491e-bfd0-3b40cab64d98"
      },
      "source": [
        "df = pd.read_csv('delaney-processed.csv')\n",
        "df['mol'] = df['smiles'].apply(Chem.MolFromSmiles)\n",
        "print(df.shape)\n",
        "print(df.columns)\n",
        "df.head()"
      ],
      "execution_count": null,
      "outputs": [
        {
          "output_type": "stream",
          "text": [
            "(1128, 11)\n",
            "Index(['Compound ID', 'ESOL predicted log solubility in mols per litre',\n",
            "       'Minimum Degree', 'Molecular Weight', 'Number of H-Bond Donors',\n",
            "       'Number of Rings', 'Number of Rotatable Bonds', 'Polar Surface Area',\n",
            "       'measured log solubility in mols per litre', 'smiles', 'mol'],\n",
            "      dtype='object')\n"
          ],
          "name": "stdout"
        },
        {
          "output_type": "execute_result",
          "data": {
            "text/html": [
              "<div>\n",
              "<style scoped>\n",
              "    .dataframe tbody tr th:only-of-type {\n",
              "        vertical-align: middle;\n",
              "    }\n",
              "\n",
              "    .dataframe tbody tr th {\n",
              "        vertical-align: top;\n",
              "    }\n",
              "\n",
              "    .dataframe thead th {\n",
              "        text-align: right;\n",
              "    }\n",
              "</style>\n",
              "<table border=\"1\" class=\"dataframe\">\n",
              "  <thead>\n",
              "    <tr style=\"text-align: right;\">\n",
              "      <th></th>\n",
              "      <th>Compound ID</th>\n",
              "      <th>ESOL predicted log solubility in mols per litre</th>\n",
              "      <th>Minimum Degree</th>\n",
              "      <th>Molecular Weight</th>\n",
              "      <th>Number of H-Bond Donors</th>\n",
              "      <th>Number of Rings</th>\n",
              "      <th>Number of Rotatable Bonds</th>\n",
              "      <th>Polar Surface Area</th>\n",
              "      <th>measured log solubility in mols per litre</th>\n",
              "      <th>smiles</th>\n",
              "      <th>mol</th>\n",
              "    </tr>\n",
              "  </thead>\n",
              "  <tbody>\n",
              "    <tr>\n",
              "      <th>0</th>\n",
              "      <td>Amigdalin</td>\n",
              "      <td>-0.974</td>\n",
              "      <td>1</td>\n",
              "      <td>457.432</td>\n",
              "      <td>7</td>\n",
              "      <td>3</td>\n",
              "      <td>7</td>\n",
              "      <td>202.32</td>\n",
              "      <td>-0.77</td>\n",
              "      <td>OCC3OC(OCC2OC(OC(C#N)c1ccccc1)C(O)C(O)C2O)C(O)...</td>\n",
              "      <td>&lt;rdkit.Chem.rdchem.Mol object at 0x7f1341c9c1c0&gt;</td>\n",
              "    </tr>\n",
              "    <tr>\n",
              "      <th>1</th>\n",
              "      <td>Fenfuram</td>\n",
              "      <td>-2.885</td>\n",
              "      <td>1</td>\n",
              "      <td>201.225</td>\n",
              "      <td>1</td>\n",
              "      <td>2</td>\n",
              "      <td>2</td>\n",
              "      <td>42.24</td>\n",
              "      <td>-3.30</td>\n",
              "      <td>Cc1occc1C(=O)Nc2ccccc2</td>\n",
              "      <td>&lt;rdkit.Chem.rdchem.Mol object at 0x7f1341cdcb70&gt;</td>\n",
              "    </tr>\n",
              "    <tr>\n",
              "      <th>2</th>\n",
              "      <td>citral</td>\n",
              "      <td>-2.579</td>\n",
              "      <td>1</td>\n",
              "      <td>152.237</td>\n",
              "      <td>0</td>\n",
              "      <td>0</td>\n",
              "      <td>4</td>\n",
              "      <td>17.07</td>\n",
              "      <td>-2.06</td>\n",
              "      <td>CC(C)=CCCC(C)=CC(=O)</td>\n",
              "      <td>&lt;rdkit.Chem.rdchem.Mol object at 0x7f1341cc0cb0&gt;</td>\n",
              "    </tr>\n",
              "    <tr>\n",
              "      <th>3</th>\n",
              "      <td>Picene</td>\n",
              "      <td>-6.618</td>\n",
              "      <td>2</td>\n",
              "      <td>278.354</td>\n",
              "      <td>0</td>\n",
              "      <td>5</td>\n",
              "      <td>0</td>\n",
              "      <td>0.00</td>\n",
              "      <td>-7.87</td>\n",
              "      <td>c1ccc2c(c1)ccc3c2ccc4c5ccccc5ccc43</td>\n",
              "      <td>&lt;rdkit.Chem.rdchem.Mol object at 0x7f1341cc0c10&gt;</td>\n",
              "    </tr>\n",
              "    <tr>\n",
              "      <th>4</th>\n",
              "      <td>Thiophene</td>\n",
              "      <td>-2.232</td>\n",
              "      <td>2</td>\n",
              "      <td>84.143</td>\n",
              "      <td>0</td>\n",
              "      <td>1</td>\n",
              "      <td>0</td>\n",
              "      <td>0.00</td>\n",
              "      <td>-1.33</td>\n",
              "      <td>c1ccsc1</td>\n",
              "      <td>&lt;rdkit.Chem.rdchem.Mol object at 0x7f1341cc0ad0&gt;</td>\n",
              "    </tr>\n",
              "  </tbody>\n",
              "</table>\n",
              "</div>"
            ],
            "text/plain": [
              "  Compound ID  ...                                               mol\n",
              "0   Amigdalin  ...  <rdkit.Chem.rdchem.Mol object at 0x7f1341c9c1c0>\n",
              "1    Fenfuram  ...  <rdkit.Chem.rdchem.Mol object at 0x7f1341cdcb70>\n",
              "2      citral  ...  <rdkit.Chem.rdchem.Mol object at 0x7f1341cc0cb0>\n",
              "3      Picene  ...  <rdkit.Chem.rdchem.Mol object at 0x7f1341cc0c10>\n",
              "4   Thiophene  ...  <rdkit.Chem.rdchem.Mol object at 0x7f1341cc0ad0>\n",
              "\n",
              "[5 rows x 11 columns]"
            ]
          },
          "metadata": {
            "tags": []
          },
          "execution_count": 7
        }
      ]
    },
    {
      "cell_type": "markdown",
      "metadata": {
        "id": "7LP6W_4BwrFS",
        "colab_type": "text"
      },
      "source": [
        "# Visualizar los grafos"
      ]
    },
    {
      "cell_type": "code",
      "metadata": {
        "id": "IQk15up9wrR2",
        "colab_type": "code",
        "colab": {
          "base_uri": "https://localhost:8080/",
          "height": 617
        },
        "outputId": "4a003f7a-0c7a-4c73-84f1-427b72f84e0d"
      },
      "source": [
        "mols = df['mol'].sample(n=9).tolist()\n",
        "Draw.MolsToGridImage(mols)"
      ],
      "execution_count": null,
      "outputs": [
        {
          "output_type": "execute_result",
          "data": {
            "image/png": "[encoded data removed]",
            "text/plain": [
              "<PIL.PngImagePlugin.PngImageFile image mode=RGB size=600x600 at 0x7F1341A08908>"
            ]
          },
          "metadata": {
            "tags": []
          },
          "execution_count": 15
        }
      ]
    },
    {
      "cell_type": "markdown",
      "metadata": {
        "id": "FBgnXFTp20kr",
        "colab_type": "text"
      },
      "source": [
        "## Construir train-test split"
      ]
    },
    {
      "cell_type": "code",
      "metadata": {
        "ExecuteTime": {
          "end_time": "2020-08-25T13:18:08.723554Z",
          "start_time": "2020-08-25T13:16:47.573719Z"
        },
        "id": "fR49aasc20ku",
        "colab_type": "code",
        "colab": {
          "base_uri": "https://localhost:8080/",
          "height": 34
        },
        "outputId": "f653ac5d-ea21-41d7-c212-b10f570f65f7"
      },
      "source": [
        "indices = np.array(df.index)\n",
        "mols = np.array(df['mol'].tolist())\n",
        "train_index, test_index = sklearn.model_selection.train_test_split(indices, test_size=.20)\n",
        "mols_train, mols_test = mols[train_index], mols[test_index]\n",
        "print(len(train_index),len(test_index))"
      ],
      "execution_count": null,
      "outputs": [
        {
          "output_type": "stream",
          "text": [
            "902 226\n"
          ],
          "name": "stdout"
        }
      ]
    },
    {
      "cell_type": "markdown",
      "metadata": {
        "id": "gySWPsQDuFPK",
        "colab_type": "text"
      },
      "source": [
        "## Propiedad de interes"
      ]
    },
    {
      "cell_type": "code",
      "metadata": {
        "id": "w5WTDbMduDnI",
        "colab_type": "code",
        "colab": {
          "base_uri": "https://localhost:8080/",
          "height": 34
        },
        "outputId": "3dbeb101-a72e-43a8-8f40-072d04a0070e"
      },
      "source": [
        "target = \"measured log solubility in mols per litre\"\n",
        "y_true = df[target].values.reshape(-1,1).astype(np.float32)\n",
        "y_train = y_true[train_index]\n",
        "y_test = y_true[test_index]\n",
        "print(y_train.shape, y_test.shape)"
      ],
      "execution_count": null,
      "outputs": [
        {
          "output_type": "stream",
          "text": [
            "(902, 1) (226, 1)\n"
          ],
          "name": "stdout"
        }
      ]
    },
    {
      "cell_type": "markdown",
      "metadata": {
        "id": "RF25wTpj20k5",
        "colab_type": "text"
      },
      "source": [
        "## Un baseline (atribucion en 1-D) con modelos lineales"
      ]
    },
    {
      "cell_type": "code",
      "metadata": {
        "id": "ZGfcsScfuLtw",
        "colab_type": "code",
        "colab": {
          "base_uri": "https://localhost:8080/",
          "height": 34
        },
        "outputId": "6533e7eb-f9f6-4f4e-9525-75039597346b"
      },
      "source": [
        "fps =  [Chem.GetMorganFingerprintAsBitVect(m,2,nBits=2048) for m in mols]\n",
        "fps = np.vstack(np.array(fps))\n",
        "fps_train, fps_test = fps[train_index], fps[test_index]\n",
        "fps.shape"
      ],
      "execution_count": null,
      "outputs": [
        {
          "output_type": "execute_result",
          "data": {
            "text/plain": [
              "(1128, 2048)"
            ]
          },
          "metadata": {
            "tags": []
          },
          "execution_count": 10
        }
      ]
    },
    {
      "cell_type": "markdown",
      "metadata": {
        "id": "ds14PRsSw77n",
        "colab_type": "text"
      },
      "source": [
        "## Mol a grafo"
      ]
    },
    {
      "cell_type": "code",
      "metadata": {
        "id": "siKwqtCzwOfV",
        "colab_type": "code",
        "colab": {}
      },
      "source": [
        "from rdkit import Chem\n",
        "import numpy as np\n",
        "\n",
        "\n",
        "possible_atom_list = ['S', 'Si', 'F', 'O',\n",
        "                      'C', 'I', 'P', 'Cl', 'Br', 'N', 'Unknown']\n",
        "\n",
        "\n",
        "reference_lists = [\n",
        "    possible_atom_list\n",
        "]\n",
        "\n",
        "\n",
        "def one_of_k_encoding(x, allowable_set):\n",
        "    if x not in allowable_set:\n",
        "        raise Exception(\"input {0} not in allowable set{1}:\".format(\n",
        "            x, allowable_set))\n",
        "    return list(map(lambda s: x == s, allowable_set))\n",
        "\n",
        "\n",
        "def one_of_k_encoding_unk(x, allowable_set):\n",
        "    \"\"\"Maps inputs not in the allowable set to the last element.\"\"\"\n",
        "    if x not in allowable_set:\n",
        "        x = allowable_set[-1]\n",
        "    return list(map(lambda s: x == s, allowable_set))\n",
        "\n",
        "\n",
        "def safe_index(l, e):\n",
        "    \"\"\"Gets the index of e in l, providing an index of len(l) if not found\"\"\"\n",
        "    try:\n",
        "        return l.index(e)\n",
        "    except:\n",
        "        return len(l)\n",
        "\n",
        "\n",
        "def get_feature_list(atom):\n",
        "    features[safe_index(possible_atom_list, atom.GetSymbol())]\n",
        "    return features\n",
        "\n",
        "def atom_features(atom):\n",
        "    results = one_of_k_encoding_unk(atom.GetSymbol(), possible_atom_list)\n",
        "    return np.array(results).astype(np.float32)\n",
        "\n",
        "\n",
        "def bond_features(bond):\n",
        "    bt = bond.GetBondType()\n",
        "    bond_feats = [\n",
        "        bt == Chem.rdchem.BondType.SINGLE, bt == Chem.rdchem.BondType.DOUBLE,\n",
        "        bt == Chem.rdchem.BondType.TRIPLE, bt == Chem.rdchem.BondType.AROMATIC]\n",
        "    return np.array(bond_feats).astype(np.float32)\n",
        "\n",
        "\n",
        "def get_bond_pair(mol):\n",
        "    bonds = mol.GetBonds()\n",
        "    res = [[], []]\n",
        "    n_atoms = mol.GetNumAtoms()\n",
        "    adj = np.zeros((n_atoms,n_atoms))\n",
        "    for bond in bonds:\n",
        "        res[0] += [bond.GetBeginAtomIdx()]\n",
        "        res[1] += [bond.GetEndAtomIdx()]\n",
        "        adj[bond.GetBeginAtomIdx(),bond.GetEndAtomIdx()]=1\n",
        "        adj[bond.GetEndAtomIdx(),bond.GetBeginAtomIdx()]=1\n",
        "\n",
        "    return res, adj\n",
        "\n",
        "\n",
        "def mol2graph_data(mol):\n",
        "    atoms = mol.GetAtoms()\n",
        "    bonds = mol.GetBonds()\n",
        "    node_f = [atom_features(atom) for atom in atoms]\n",
        "    edge_index, adj = get_bond_pair(mol)\n",
        "    edge_f = [bond_features(bond) for bond in bonds]\n",
        "    return np.stack(node_f),np.stack(edge_index).T,np.stack(edge_f), adj\n",
        "\n",
        "\n",
        "def n_atom_features():\n",
        "    atom = Chem.MolFromSmiles('C').GetAtomWithIdx(0)\n",
        "    return len(atom_features(atom))\n",
        "\n",
        "\n",
        "def n_bond_features():\n",
        "    bond = Chem.MolFromSmiles('CC').GetBondWithIdx(0)\n",
        "    return len(bond_features(bond))"
      ],
      "execution_count": null,
      "outputs": []
    },
    {
      "cell_type": "code",
      "metadata": {
        "id": "jA5o8iZzxQji",
        "colab_type": "code",
        "colab": {}
      },
      "source": [
        "def mol_to_datatdict(mol):\n",
        "  mol = df['mol'].iloc[0]\n",
        "  nodes = np.array([atom_features(atom) for atom in mol.GetAtoms()])\n",
        "  edges = []\n",
        "  for bond in mol.GetBonds():\n",
        "    edges.append(bond_features(bond))\n",
        "    edges.append(bond_features(bond))\n",
        "  edges = np.array(edges)\n",
        "  senders = []\n",
        "  receivers = []\n",
        "  for bond in mol.GetBonds():\n",
        "    senders.extend([bond.GetBeginAtomIdx(), bond.GetEndAtomIdx()])\n",
        "    receivers.extend([bond.GetEndAtomIdx(),bond.GetBeginAtomIdx()])\n",
        "\n",
        "  data_dict = {'nodes':nodes.astype(np.float32), 'edges':edges.astype(np.float32),\n",
        "              'globals':np.array([0]).astype(np.float32),\n",
        "              'senders':np.array(senders),\n",
        "              'receivers':np.array(receivers)}\n",
        "  return data_dict\n",
        "\n",
        "data_dict_train = [mol_to_datatdict(mol) for mol in mols_train]\n",
        "data_dict_test = [mol_to_datatdict(mol) for mol in mols_test]\n",
        "\n",
        "x_train = gn.utils_tf.data_dicts_to_graphs_tuple(data_dict_train)\n",
        "x_test = gn.utils_tf.data_dicts_to_graphs_tuple(data_dict_test)"
      ],
      "execution_count": null,
      "outputs": []
    },
    {
      "cell_type": "markdown",
      "metadata": {
        "ExecuteTime": {
          "end_time": "2020-08-25T12:01:23.611610Z",
          "start_time": "2020-08-25T12:01:23.604859Z"
        },
        "id": "niTCJpyi20nY",
        "colab_type": "text"
      },
      "source": [
        "# Armar un GNN para regression"
      ]
    },
    {
      "cell_type": "code",
      "metadata": {
        "ExecuteTime": {
          "end_time": "2020-08-25T13:20:19.537332Z",
          "start_time": "2020-08-25T13:20:19.531687Z"
        },
        "id": "3gSlFS3O20nZ",
        "colab_type": "code",
        "colab": {}
      },
      "source": [
        "def get_num_parameters(model: snt.Module, trainable: bool = True) -> int:\n",
        "  \"\"\"Numero de parametros.\"\"\"\n",
        "  variables = model.trainable_variables if trainable else model.variables\n",
        "  return int(np.sum([np.prod(v.shape) for v in variables]))\n",
        "\n",
        "\n",
        "def print_model(model: snt.Module):\n",
        "  \"\"\"Sumario de un modelo.\"\"\"\n",
        "  print(f'{model.__class__.__name__} : {model.name}\\n')\n",
        "  print(snt.format_variables(model.variables))\n",
        "  n_params = get_num_parameters(model, False)\n",
        "  trainable_params = get_num_parameters(model, True)\n",
        "  print(f'\\nParams: {trainable_params} trainable out of {n_params}')"
      ],
      "execution_count": null,
      "outputs": []
    },
    {
      "cell_type": "markdown",
      "metadata": {
        "id": "jwJpKl0_20nq",
        "colab_type": "text"
      },
      "source": [
        "## Bloque de transformacion"
      ]
    },
    {
      "cell_type": "code",
      "metadata": {
        "ExecuteTime": {
          "end_time": "2020-08-25T13:20:20.483924Z",
          "start_time": "2020-08-25T13:20:20.410339Z"
        },
        "id": "RL3ioPM120ns",
        "colab_type": "code",
        "colab": {
          "base_uri": "https://localhost:8080/",
          "height": 218
        },
        "outputId": "4fc57719-28cb-4f61-c2a8-a6c2e9d25e3e"
      },
      "source": [
        "def make_mlp_model(latent_size=32, n_layers=2, add_head=0):\n",
        "    \"\"\"Crea un MLP luego pasando por un LayerNorm y opcionalmente una capa lineal.\"\"\"\n",
        "    layers = [\n",
        "        snt.nets.MLP([latent_size] * n_layers, activate_final=True),\n",
        "        snt.LayerNorm(axis=-1, create_offset=True, create_scale=True)]\n",
        "    if add_head > 0:\n",
        "        layers.append(snt.Linear(add_head))\n",
        "    return snt.Sequential(layers)\n",
        "    \n",
        "bloque = make_mlp_model(32, 2, 0)\n",
        "bloque(x_train.nodes)\n",
        "print_model(bloque)"
      ],
      "execution_count": null,
      "outputs": [
        {
          "output_type": "stream",
          "text": [
            "Sequential : sequential\n",
            "\n",
            "| Variable          | Spec       | Trainable   | Device   |\n",
            "|-------------------+------------+-------------+----------|\n",
            "| layer_norm/offset | f32[32]    | True        | GPU      |\n",
            "| layer_norm/scale  | f32[32]    | True        | GPU      |\n",
            "| mlp/linear_0/w    | f32[11,32] | True        | GPU      |\n",
            "| mlp/linear_0/b    | f32[32]    | True        | GPU      |\n",
            "| mlp/linear_1/w    | f32[32,32] | True        | GPU      |\n",
            "| mlp/linear_1/b    | f32[32]    | True        | GPU      |\n",
            "\n",
            "Params: 1504 trainable out of 1504\n"
          ],
          "name": "stdout"
        }
      ]
    },
    {
      "cell_type": "markdown",
      "metadata": {
        "id": "-ZlTXSMw20o-",
        "colab_type": "text"
      },
      "source": [
        "## GNN: GraphNets"
      ]
    },
    {
      "cell_type": "code",
      "metadata": {
        "ExecuteTime": {
          "end_time": "2020-08-25T13:20:58.348518Z",
          "start_time": "2020-08-25T13:20:58.206918Z"
        },
        "scrolled": true,
        "id": "YzBP2BJ220o_",
        "colab_type": "code",
        "colab": {
          "base_uri": "https://localhost:8080/",
          "height": 1000
        },
        "outputId": "cceeb95d-75f2-4d18-a0a0-13da6b71aeec"
      },
      "source": [
        "cabeza = gn.modules.GraphIndependent(node_model_fn=lambda: snt.Linear(1))\n",
        "\n",
        "gnn_layers = [gn.modules.GraphNetwork(\n",
        "    edge_model_fn=lambda: make_mlp_model(32, 2),\n",
        "    node_model_fn=lambda: make_mlp_model(32, 2),\n",
        "    global_model_fn=lambda: make_mlp_model(32, 2)) for i in range(3)]\n",
        "\n",
        "gnn = snt.Sequential( gnn_layers + [cabeza])\n",
        "out = gnn(x_train)\n",
        "print_model(gnn)"
      ],
      "execution_count": null,
      "outputs": [
        {
          "output_type": "stream",
          "text": [
            "Sequential : sequential\n",
            "\n",
            "| Variable                                     | Spec        | Trainable   | Device   |\n",
            "|----------------------------------------------+-------------+-------------+----------|\n",
            "| graph_independent/node_model/linear/w        | f32[32,1]   | True        | GPU      |\n",
            "| graph_independent/node_model/linear/b        | f32[1]      | True        | GPU      |\n",
            "| graph_network/edge_block/layer_norm/offset   | f32[32]     | True        | GPU      |\n",
            "| graph_network/edge_block/layer_norm/offset   | f32[32]     | True        | GPU      |\n",
            "| graph_network/edge_block/layer_norm/offset   | f32[32]     | True        | GPU      |\n",
            "| graph_network/edge_block/layer_norm/scale    | f32[32]     | True        | GPU      |\n",
            "| graph_network/edge_block/layer_norm/scale    | f32[32]     | True        | GPU      |\n",
            "| graph_network/edge_block/layer_norm/scale    | f32[32]     | True        | GPU      |\n",
            "| graph_network/edge_block/mlp/linear_0/w      | f32[27,32]  | True        | GPU      |\n",
            "| graph_network/edge_block/mlp/linear_0/w      | f32[128,32] | True        | GPU      |\n",
            "| graph_network/edge_block/mlp/linear_0/w      | f32[128,32] | True        | GPU      |\n",
            "| graph_network/edge_block/mlp/linear_0/b      | f32[32]     | True        | GPU      |\n",
            "| graph_network/edge_block/mlp/linear_0/b      | f32[32]     | True        | GPU      |\n",
            "| graph_network/edge_block/mlp/linear_0/b      | f32[32]     | True        | GPU      |\n",
            "| graph_network/edge_block/mlp/linear_1/w      | f32[32,32]  | True        | GPU      |\n",
            "| graph_network/edge_block/mlp/linear_1/w      | f32[32,32]  | True        | GPU      |\n",
            "| graph_network/edge_block/mlp/linear_1/w      | f32[32,32]  | True        | GPU      |\n",
            "| graph_network/edge_block/mlp/linear_1/b      | f32[32]     | True        | GPU      |\n",
            "| graph_network/edge_block/mlp/linear_1/b      | f32[32]     | True        | GPU      |\n",
            "| graph_network/edge_block/mlp/linear_1/b      | f32[32]     | True        | GPU      |\n",
            "| graph_network/global_block/layer_norm/offset | f32[32]     | True        | GPU      |\n",
            "| graph_network/global_block/layer_norm/offset | f32[32]     | True        | GPU      |\n",
            "| graph_network/global_block/layer_norm/offset | f32[32]     | True        | GPU      |\n",
            "| graph_network/global_block/layer_norm/scale  | f32[32]     | True        | GPU      |\n",
            "| graph_network/global_block/layer_norm/scale  | f32[32]     | True        | GPU      |\n",
            "| graph_network/global_block/layer_norm/scale  | f32[32]     | True        | GPU      |\n",
            "| graph_network/global_block/mlp/linear_0/w    | f32[65,32]  | True        | GPU      |\n",
            "| graph_network/global_block/mlp/linear_0/w    | f32[96,32]  | True        | GPU      |\n",
            "| graph_network/global_block/mlp/linear_0/w    | f32[96,32]  | True        | GPU      |\n",
            "| graph_network/global_block/mlp/linear_0/b    | f32[32]     | True        | GPU      |\n",
            "| graph_network/global_block/mlp/linear_0/b    | f32[32]     | True        | GPU      |\n",
            "| graph_network/global_block/mlp/linear_0/b    | f32[32]     | True        | GPU      |\n",
            "| graph_network/global_block/mlp/linear_1/w    | f32[32,32]  | True        | GPU      |\n",
            "| graph_network/global_block/mlp/linear_1/w    | f32[32,32]  | True        | GPU      |\n",
            "| graph_network/global_block/mlp/linear_1/w    | f32[32,32]  | True        | GPU      |\n",
            "| graph_network/global_block/mlp/linear_1/b    | f32[32]     | True        | GPU      |\n",
            "| graph_network/global_block/mlp/linear_1/b    | f32[32]     | True        | GPU      |\n",
            "| graph_network/global_block/mlp/linear_1/b    | f32[32]     | True        | GPU      |\n",
            "| graph_network/node_block/layer_norm/offset   | f32[32]     | True        | GPU      |\n",
            "| graph_network/node_block/layer_norm/offset   | f32[32]     | True        | GPU      |\n",
            "| graph_network/node_block/layer_norm/offset   | f32[32]     | True        | GPU      |\n",
            "| graph_network/node_block/layer_norm/scale    | f32[32]     | True        | GPU      |\n",
            "| graph_network/node_block/layer_norm/scale    | f32[32]     | True        | GPU      |\n",
            "| graph_network/node_block/layer_norm/scale    | f32[32]     | True        | GPU      |\n",
            "| graph_network/node_block/mlp/linear_0/w      | f32[44,32]  | True        | GPU      |\n",
            "| graph_network/node_block/mlp/linear_0/w      | f32[96,32]  | True        | GPU      |\n",
            "| graph_network/node_block/mlp/linear_0/w      | f32[96,32]  | True        | GPU      |\n",
            "| graph_network/node_block/mlp/linear_0/b      | f32[32]     | True        | GPU      |\n",
            "| graph_network/node_block/mlp/linear_0/b      | f32[32]     | True        | GPU      |\n",
            "| graph_network/node_block/mlp/linear_0/b      | f32[32]     | True        | GPU      |\n",
            "| graph_network/node_block/mlp/linear_1/w      | f32[32,32]  | True        | GPU      |\n",
            "| graph_network/node_block/mlp/linear_1/w      | f32[32,32]  | True        | GPU      |\n",
            "| graph_network/node_block/mlp/linear_1/w      | f32[32,32]  | True        | GPU      |\n",
            "| graph_network/node_block/mlp/linear_1/b      | f32[32]     | True        | GPU      |\n",
            "| graph_network/node_block/mlp/linear_1/b      | f32[32]     | True        | GPU      |\n",
            "| graph_network/node_block/mlp/linear_1/b      | f32[32]     | True        | GPU      |\n",
            "\n",
            "Params: 35233 trainable out of 35233\n"
          ],
          "name": "stdout"
        }
      ]
    },
    {
      "cell_type": "code",
      "metadata": {
        "ExecuteTime": {
          "end_time": "2020-08-25T13:20:59.102450Z",
          "start_time": "2020-08-25T13:20:59.069612Z"
        },
        "id": "vE7TzFEo20pH",
        "colab_type": "code",
        "colab": {}
      },
      "source": [
        "NUM_ITER = 100\n",
        "optimizer = tf.optimizers.Adam(3e-4)\n",
        "metric = tf.keras.metrics.MeanAbsoluteError()\n",
        "loss_fn = tf.keras.losses.MeanSquaredError()"
      ],
      "execution_count": null,
      "outputs": []
    },
    {
      "cell_type": "code",
      "metadata": {
        "ExecuteTime": {
          "end_time": "2020-08-25T13:20:59.813451Z",
          "start_time": "2020-08-25T13:20:59.793890Z"
        },
        "id": "Ap6Nu4JJ20pR",
        "colab_type": "code",
        "colab": {}
      },
      "source": [
        "@tf.function(experimental_relax_shapes=True)\n",
        "def forward_pass(x):\n",
        "    \"\"\"Prediccion.\"\"\"\n",
        "    out_x = gnn(x)\n",
        "    return out_x.globals\n",
        "\n",
        "def calc_stats(y_true, y_pred, prefix):\n",
        "    \"\"\"Conseguir estadisticas\"\"\"\n",
        "    return {f'{prefix}_loss':loss_fn(y_true, y_pred).numpy(), \n",
        "            f'{prefix}_MAE':metric(y_true, y_pred).numpy()}"
      ],
      "execution_count": null,
      "outputs": []
    },
    {
      "cell_type": "code",
      "metadata": {
        "ExecuteTime": {
          "end_time": "2020-08-25T13:23:38.511258Z",
          "start_time": "2020-08-25T13:21:00.537546Z"
        },
        "scrolled": true,
        "id": "ApqZ9BCQ20pY",
        "colab_type": "code",
        "colab": {
          "base_uri": "https://localhost:8080/",
          "height": 66,
          "referenced_widgets": [
            "fe45522ef61c4d0d8b48958bbb67d9ee",
            "434582bfe88a49769ad1e1ebb486ded0",
            "2eeb39b0fd3149fb8cffe75d397d4ebc",
            "83b3b4cdd8e94eeeb2186da4aa253dec",
            "7ed9b50eecb44ebc88f4c7c4153093f8",
            "f8c4240949674e83ae63f91a6fcc4474",
            "8c0e3bd75e214022989426a33d590e7b",
            "a227db178a1d42c391a07bc92721485b"
          ]
        },
        "outputId": "174a3171-57e5-45ea-f650-390d33916a87"
      },
      "source": [
        "pbar = tqdm.tqdm(range(NUM_ITER))\n",
        "stats = []\n",
        "\n",
        "for i in pbar:\n",
        "    with tf.GradientTape() as tape:\n",
        "      y_pred = forward_pass(x_train)\n",
        "      loss = loss_fn(y_train, y_pred)\n",
        "    grads = tape.gradient(loss, gnn.trainable_variables)\n",
        "    optimizer.apply_gradients((grad, var) \n",
        "    for (grad, var) in zip(grads, gnn.trainable_variables) \n",
        "    if grad is not None)\n",
        "    # Train statistics.\n",
        "    y_pred =  gnn(x_train).globals\n",
        "    stat = calc_stats(y_train, y_pred , 'train')\n",
        "    # Test statistics.\n",
        "    y_pred =  gnn(x_test).globals\n",
        "    stat.update(calc_stats(y_test, y_pred, 'test'))\n",
        "    stats.append(stat)\n",
        "    # Update progress bar.\n",
        "    pbar.set_postfix(stats[-1])"
      ],
      "execution_count": null,
      "outputs": [
        {
          "output_type": "display_data",
          "data": {
            "application/vnd.jupyter.widget-view+json": {
              "model_id": "fe45522ef61c4d0d8b48958bbb67d9ee",
              "version_minor": 0,
              "version_major": 2
            },
            "text/plain": [
              "HBox(children=(FloatProgress(value=0.0), HTML(value='')))"
            ]
          },
          "metadata": {
            "tags": []
          }
        },
        {
          "output_type": "stream",
          "text": [
            "\n"
          ],
          "name": "stdout"
        }
      ]
    },
    {
      "cell_type": "code",
      "metadata": {
        "id": "JGWAoH-m1Y9s",
        "colab_type": "code",
        "colab": {
          "base_uri": "https://localhost:8080/",
          "height": 402
        },
        "outputId": "9fda204e-774a-482d-b4a8-5a819097d400"
      },
      "source": [
        "train_df = pd.DataFrame(stats)\n",
        "train_df"
      ],
      "execution_count": null,
      "outputs": [
        {
          "output_type": "execute_result",
          "data": {
            "text/html": [
              "<div>\n",
              "<style scoped>\n",
              "    .dataframe tbody tr th:only-of-type {\n",
              "        vertical-align: middle;\n",
              "    }\n",
              "\n",
              "    .dataframe tbody tr th {\n",
              "        vertical-align: top;\n",
              "    }\n",
              "\n",
              "    .dataframe thead th {\n",
              "        text-align: right;\n",
              "    }\n",
              "</style>\n",
              "<table border=\"1\" class=\"dataframe\">\n",
              "  <thead>\n",
              "    <tr style=\"text-align: right;\">\n",
              "      <th></th>\n",
              "      <th>train_loss</th>\n",
              "      <th>train_MAE</th>\n",
              "      <th>test_loss</th>\n",
              "      <th>test_MAE</th>\n",
              "    </tr>\n",
              "  </thead>\n",
              "  <tbody>\n",
              "    <tr>\n",
              "      <th>0</th>\n",
              "      <td>22647.898438</td>\n",
              "      <td>3155.847168</td>\n",
              "      <td>22649.396484</td>\n",
              "      <td>3149.906250</td>\n",
              "    </tr>\n",
              "    <tr>\n",
              "      <th>1</th>\n",
              "      <td>16476.103516</td>\n",
              "      <td>3126.206299</td>\n",
              "      <td>16480.042969</td>\n",
              "      <td>3120.326172</td>\n",
              "    </tr>\n",
              "    <tr>\n",
              "      <th>2</th>\n",
              "      <td>8286.666016</td>\n",
              "      <td>3096.861816</td>\n",
              "      <td>8288.919922</td>\n",
              "      <td>3091.039307</td>\n",
              "    </tr>\n",
              "    <tr>\n",
              "      <th>3</th>\n",
              "      <td>5801.845703</td>\n",
              "      <td>3068.001221</td>\n",
              "      <td>5801.723633</td>\n",
              "      <td>3062.284180</td>\n",
              "    </tr>\n",
              "    <tr>\n",
              "      <th>4</th>\n",
              "      <td>6183.797852</td>\n",
              "      <td>3039.665527</td>\n",
              "      <td>6183.541016</td>\n",
              "      <td>3034.052002</td>\n",
              "    </tr>\n",
              "    <tr>\n",
              "      <th>...</th>\n",
              "      <td>...</td>\n",
              "      <td>...</td>\n",
              "      <td>...</td>\n",
              "      <td>...</td>\n",
              "    </tr>\n",
              "    <tr>\n",
              "      <th>95</th>\n",
              "      <td>5.130070</td>\n",
              "      <td>1641.799561</td>\n",
              "      <td>5.232236</td>\n",
              "      <td>1640.131592</td>\n",
              "    </tr>\n",
              "    <tr>\n",
              "      <th>96</th>\n",
              "      <td>5.333083</td>\n",
              "      <td>1633.508179</td>\n",
              "      <td>5.439906</td>\n",
              "      <td>1631.857178</td>\n",
              "    </tr>\n",
              "    <tr>\n",
              "      <th>97</th>\n",
              "      <td>4.929146</td>\n",
              "      <td>1625.300171</td>\n",
              "      <td>4.935478</td>\n",
              "      <td>1623.665649</td>\n",
              "    </tr>\n",
              "    <tr>\n",
              "      <th>98</th>\n",
              "      <td>4.726124</td>\n",
              "      <td>1617.174316</td>\n",
              "      <td>4.601005</td>\n",
              "      <td>1615.556030</td>\n",
              "    </tr>\n",
              "    <tr>\n",
              "      <th>99</th>\n",
              "      <td>4.959496</td>\n",
              "      <td>1609.129639</td>\n",
              "      <td>4.767534</td>\n",
              "      <td>1607.527344</td>\n",
              "    </tr>\n",
              "  </tbody>\n",
              "</table>\n",
              "<p>100 rows × 4 columns</p>\n",
              "</div>"
            ],
            "text/plain": [
              "      train_loss    train_MAE     test_loss     test_MAE\n",
              "0   22647.898438  3155.847168  22649.396484  3149.906250\n",
              "1   16476.103516  3126.206299  16480.042969  3120.326172\n",
              "2    8286.666016  3096.861816   8288.919922  3091.039307\n",
              "3    5801.845703  3068.001221   5801.723633  3062.284180\n",
              "4    6183.797852  3039.665527   6183.541016  3034.052002\n",
              "..           ...          ...           ...          ...\n",
              "95      5.130070  1641.799561      5.232236  1640.131592\n",
              "96      5.333083  1633.508179      5.439906  1631.857178\n",
              "97      4.929146  1625.300171      4.935478  1623.665649\n",
              "98      4.726124  1617.174316      4.601005  1615.556030\n",
              "99      4.959496  1609.129639      4.767534  1607.527344\n",
              "\n",
              "[100 rows x 4 columns]"
            ]
          },
          "metadata": {
            "tags": []
          },
          "execution_count": 52
        }
      ]
    },
    {
      "cell_type": "code",
      "metadata": {
        "ExecuteTime": {
          "end_time": "2020-08-25T13:25:16.159004Z",
          "start_time": "2020-08-25T13:25:15.541938Z"
        },
        "id": "YT2yMZ7r20pi",
        "colab_type": "code",
        "colab": {
          "base_uri": "https://localhost:8080/",
          "height": 988
        },
        "outputId": "5f6b172f-0c9f-41be-dbe3-af58ba773ffb"
      },
      "source": [
        "for key in ['train_loss','test_loss']:\n",
        "    plt.plot(train_df[key])\n",
        "plt.yscale('log')\n",
        "plt.legend()\n",
        "plt.show()\n",
        "\n",
        "for key in ['train_MAE','test_MAE']:\n",
        "    plt.plot(train_df[key])\n",
        "plt.show()"
      ],
      "execution_count": null,
      "outputs": [
        {
          "output_type": "stream",
          "text": [
            "No handles with labels found to put in legend.\n"
          ],
          "name": "stderr"
        },
        {
          "output_type": "display_data",
          "data": {
            "image/png": "[encoded data removed]",
            "text/plain": [
              "<Figure size 864x576 with 1 Axes>"
            ]
          },
          "metadata": {
            "tags": [],
            "image/png": {
              "width": 726,
              "height": 477
            }
          }
        },
        {
          "output_type": "display_data",
          "data": {
            "image/png": "[encoded data removed]",
            "text/plain": [
              "<Figure size 864x576 with 1 Axes>"
            ]
          },
          "metadata": {
            "tags": [],
            "image/png": {
              "width": 742,
              "height": 477
            }
          }
        }
      ]
    },
    {
      "cell_type": "markdown",
      "metadata": {
        "id": "Sn1qWumq1qq4",
        "colab_type": "text"
      },
      "source": [
        "# Conseguir gradient"
      ]
    },
    {
      "cell_type": "code",
      "metadata": {
        "id": "bocqV5Rn20pp",
        "colab_type": "code",
        "colab": {
          "base_uri": "https://localhost:8080/",
          "height": 286
        },
        "outputId": "d265af7c-3db9-4b1b-a647-80a05151e457"
      },
      "source": [
        "def calc_gradient(x):\n",
        "  with tf.GradientTape(watch_accessed_variables=False) as gtape:\n",
        "    gtape.watch([x.nodes, x.edges])\n",
        "    y = forward_pass(x)\n",
        "  nodes_grad, edges_grad = gtape.gradient(y, [x.nodes, x.edges])\n",
        "  return  nodes_grad, edges_grad\n",
        "\n",
        "calc_gradient(x_train)"
      ],
      "execution_count": null,
      "outputs": [
        {
          "output_type": "execute_result",
          "data": {
            "text/plain": [
              "(<tf.Tensor: shape=(28864, 11), dtype=float32, numpy=\n",
              " array([[0., 0., 0., ..., 0., 0., 0.],\n",
              "        [0., 0., 0., ..., 0., 0., 0.],\n",
              "        [0., 0., 0., ..., 0., 0., 0.],\n",
              "        ...,\n",
              "        [0., 0., 0., ..., 0., 0., 0.],\n",
              "        [0., 0., 0., ..., 0., 0., 0.],\n",
              "        [0., 0., 0., ..., 0., 0., 0.]], dtype=float32)>,\n",
              " <tf.Tensor: shape=(61336, 4), dtype=float32, numpy=\n",
              " array([[0., 0., 0., 0.],\n",
              "        [0., 0., 0., 0.],\n",
              "        [0., 0., 0., 0.],\n",
              "        ...,\n",
              "        [0., 0., 0., 0.],\n",
              "        [0., 0., 0., 0.],\n",
              "        [0., 0., 0., 0.]], dtype=float32)>)"
            ]
          },
          "metadata": {
            "tags": []
          },
          "execution_count": 57
        }
      ]
    }
  ]
}