{
  "nbformat": 4,
  "nbformat_minor": 0,
  "metadata": {
    "colab": {
      "name": "Template.ipynb",
      "provenance": [],
      "toc_visible": true
    },
    "kernelspec": {
      "display_name": "Python 3",
      "language": "python",
      "name": "python3"
    },
    "language_info": {
      "codemirror_mode": {
        "name": "ipython",
        "version": 3
      },
      "file_extension": ".py",
      "mimetype": "text/x-python",
      "name": "python",
      "nbconvert_exporter": "python",
      "pygments_lexer": "ipython3",
      "version": "3.7.7"
    },
    "toc": {
      "base_numbering": 1,
      "nav_menu": {},
      "number_sections": true,
      "sideBar": true,
      "skip_h1_title": false,
      "title_cell": "Table of Contents",
      "title_sidebar": "Contents",
      "toc_cell": false,
      "toc_position": {},
      "toc_section_display": true,
      "toc_window_display": false
    },
    "accelerator": "GPU"
  },
  "cells": [
    {
      "cell_type": "markdown",
      "metadata": {
        "ExecuteTime": {
          "end_time": "2020-04-07T13:00:31.536172Z",
          "start_time": "2020-04-07T13:00:31.532636Z"
        },
        "colab_type": "text",
        "id": "v5lACW4qovun"
      },
      "source": [
        "Download colab_utils and import\n",
        "\n",
        "\n",
        "\n",
        "<a href=\"https://colab.research.google.com/github/beangoben/rdkit_colab/blob/master/Template.ipynb\" target=\"_parent\"><img src=\"https://colab.research.google.com/assets/colab-badge.svg\" alt=\"Open In Colab\"/></a>\n"
      ]
    },
    {
      "cell_type": "code",
      "metadata": {
        "ExecuteTime": {
          "end_time": "2020-04-07T12:59:10.855114Z",
          "start_time": "2020-04-07T12:59:10.540431Z"
        },
        "colab_type": "code",
        "id": "J5HaH9Yvovuo",
        "scrolled": true,
        "colab": {
          "base_uri": "https://localhost:8080/",
          "height": 222
        },
        "outputId": "da0281c9-e31e-4043-8bce-f1f9ab0f8da3"
      },
      "source": [
        "!wget https://raw.githubusercontent.com/beangoben/workshop_template/master/colab_utils.py -O colab_utils.py\n",
        "!rm -rf sample_data\n",
        "import colab_utils"
      ],
      "execution_count": 2,
      "outputs": [
        {
          "output_type": "stream",
          "text": [
            "--2020-08-25 03:33:51--  https://raw.githubusercontent.com/beangoben/workshop_template/master/colab_utils.py\n",
            "Resolving raw.githubusercontent.com (raw.githubusercontent.com)... 151.101.0.133, 151.101.64.133, 151.101.128.133, ...\n",
            "Connecting to raw.githubusercontent.com (raw.githubusercontent.com)|151.101.0.133|:443... connected.\n",
            "HTTP request sent, awaiting response... 200 OK\n",
            "Length: 7173 (7.0K) [text/plain]\n",
            "Saving to: ‘colab_utils.py’\n",
            "\n",
            "colab_utils.py      100%[===================>]   7.00K  --.-KB/s    in 0s      \n",
            "\n",
            "2020-08-25 03:33:51 (76.8 MB/s) - ‘colab_utils.py’ saved [7173/7173]\n",
            "\n"
          ],
          "name": "stdout"
        }
      ]
    },
    {
      "cell_type": "markdown",
      "metadata": {
        "colab_type": "text",
        "id": "dYkzGZr5ovuw"
      },
      "source": [
        "Clone github repo, install stuff"
      ]
    },
    {
      "cell_type": "code",
      "metadata": {
        "colab_type": "code",
        "id": "5DA0QH4Tovux",
        "colab": {
          "base_uri": "https://localhost:8080/",
          "height": 1000
        },
        "outputId": "914fc768-d18e-489f-fcf4-7b4c00ed89b2"
      },
      "source": [
        "github_repo = 'https://github.com/beangoben/gnn_workshop_riiaa'\n",
        "colab_utils.clone_repo(github_repo)\n",
        "colab_utils.pip_install_from_yaml()"
      ],
      "execution_count": 3,
      "outputs": [
        {
          "output_type": "stream",
          "text": [
            "CMD: git clone --recursive https://github.com/beangoben/gnn_workshop_riiaa\n",
            "pip installing ['tensorflow-probability', 'dm-sonnet', 'graph_nets', 'umap-learn', 'ogb']\n",
            "CMD: pip install  tensorflow-probability\n",
            "Requirement already satisfied: tensorflow-probability in /usr/local/lib/python3.6/dist-packages (0.11.0)\n",
            "Requirement already satisfied: decorator in /usr/local/lib/python3.6/dist-packages (from tensorflow-probability) (4.4.2)\n",
            "Requirement already satisfied: six>=1.10.0 in /usr/local/lib/python3.6/dist-packages (from tensorflow-probability) (1.15.0)\n",
            "Requirement already satisfied: numpy>=1.13.3 in /usr/local/lib/python3.6/dist-packages (from tensorflow-probability) (1.18.5)\n",
            "Requirement already satisfied: gast>=0.3.2 in /usr/local/lib/python3.6/dist-packages (from tensorflow-probability) (0.3.3)\n",
            "Requirement already satisfied: cloudpickle==1.3 in /usr/local/lib/python3.6/dist-packages (from tensorflow-probability) (1.3.0)\n",
            "Requirement already satisfied: dm-tree in /usr/local/lib/python3.6/dist-packages (from tensorflow-probability) (0.1.5)\n",
            "CMD: pip install  dm-sonnet\n",
            "Collecting dm-sonnet\n",
            "Downloading https://files.pythonhosted.org/packages/13/28/9185afffefb655ef1a29f4b84aa9f656826408ca2d1b9ffeba81fbfd40ec/dm_sonnet-2.0.0-py3-none-any.whl (254kB)\n",
            "Requirement already satisfied: wrapt>=1.11.1 in /usr/local/lib/python3.6/dist-packages (from dm-sonnet) (1.12.1)\n",
            "Requirement already satisfied: absl-py>=0.7.1 in /usr/local/lib/python3.6/dist-packages (from dm-sonnet) (0.8.1)\n",
            "Requirement already satisfied: dm-tree>=0.1.1 in /usr/local/lib/python3.6/dist-packages (from dm-sonnet) (0.1.5)\n",
            "Requirement already satisfied: numpy>=1.16.3 in /usr/local/lib/python3.6/dist-packages (from dm-sonnet) (1.18.5)\n",
            "Requirement already satisfied: six>=1.12.0 in /usr/local/lib/python3.6/dist-packages (from dm-sonnet) (1.15.0)\n",
            "Requirement already satisfied: tabulate>=0.7.5 in /usr/local/lib/python3.6/dist-packages (from dm-sonnet) (0.8.7)\n",
            "Installing collected packages: dm-sonnet\n",
            "Successfully installed dm-sonnet-2.0.0\n",
            "CMD: pip install  graph_nets\n",
            "Collecting graph_nets\n",
            "Downloading https://files.pythonhosted.org/packages/47/7a/a4a686426b1eae92887280d008c92bac2a0d1ed7dfa083a277d64f47555f/graph_nets-1.1.0.tar.gz (76kB)\n",
            "Requirement already satisfied: absl-py in /usr/local/lib/python3.6/dist-packages (from graph_nets) (0.8.1)\n",
            "Requirement already satisfied: dm-sonnet in /usr/local/lib/python3.6/dist-packages (from graph_nets) (2.0.0)\n",
            "Requirement already satisfied: dm-tree in /usr/local/lib/python3.6/dist-packages (from graph_nets) (0.1.5)\n",
            "Requirement already satisfied: future in /usr/local/lib/python3.6/dist-packages (from graph_nets) (0.16.0)\n",
            "Requirement already satisfied: networkx in /usr/local/lib/python3.6/dist-packages (from graph_nets) (2.4)\n",
            "Requirement already satisfied: numpy in /usr/local/lib/python3.6/dist-packages (from graph_nets) (1.18.5)\n",
            "Requirement already satisfied: setuptools in /usr/local/lib/python3.6/dist-packages (from graph_nets) (49.6.0)\n",
            "Requirement already satisfied: six in /usr/local/lib/python3.6/dist-packages (from graph_nets) (1.15.0)\n",
            "Requirement already satisfied: tabulate>=0.7.5 in /usr/local/lib/python3.6/dist-packages (from dm-sonnet->graph_nets) (0.8.7)\n",
            "Requirement already satisfied: wrapt>=1.11.1 in /usr/local/lib/python3.6/dist-packages (from dm-sonnet->graph_nets) (1.12.1)\n",
            "Requirement already satisfied: decorator>=4.3.0 in /usr/local/lib/python3.6/dist-packages (from networkx->graph_nets) (4.4.2)\n",
            "Building wheels for collected packages: graph-nets\n",
            "Building wheel for graph-nets (setup.py): started\n",
            "Building wheel for graph-nets (setup.py): finished with status 'done'\n",
            "Created wheel for graph-nets: filename=graph_nets-1.1.0-cp36-none-any.whl size=91865 sha256=04452addd88c5988dd0e6503b0d501dee4de026f0b32b68e58979b93b4fa1f03\n",
            "Stored in directory: /root/.cache/pip/wheels/c9/85/dc/ad3c616f83f0774ff12d6d7599850f56d82976e8590e59e864\n",
            "Successfully built graph-nets\n",
            "Installing collected packages: graph-nets\n",
            "Successfully installed graph-nets-1.1.0\n",
            "CMD: pip install  umap-learn\n",
            "Requirement already satisfied: umap-learn in /usr/local/lib/python3.6/dist-packages (0.4.6)\n",
            "Requirement already satisfied: scikit-learn>=0.20 in /usr/local/lib/python3.6/dist-packages (from umap-learn) (0.22.2.post1)\n",
            "Requirement already satisfied: numpy>=1.17 in /usr/local/lib/python3.6/dist-packages (from umap-learn) (1.18.5)\n",
            "Requirement already satisfied: scipy>=1.3.1 in /usr/local/lib/python3.6/dist-packages (from umap-learn) (1.4.1)\n",
            "Requirement already satisfied: numba!=0.47,>=0.46 in /usr/local/lib/python3.6/dist-packages (from umap-learn) (0.48.0)\n",
            "Requirement already satisfied: joblib>=0.11 in /usr/local/lib/python3.6/dist-packages (from scikit-learn>=0.20->umap-learn) (0.16.0)\n",
            "Requirement already satisfied: llvmlite<0.32.0,>=0.31.0dev0 in /usr/local/lib/python3.6/dist-packages (from numba!=0.47,>=0.46->umap-learn) (0.31.0)\n",
            "Requirement already satisfied: setuptools in /usr/local/lib/python3.6/dist-packages (from numba!=0.47,>=0.46->umap-learn) (49.6.0)\n",
            "CMD: pip install  ogb\n",
            "Collecting ogb\n",
            "Downloading https://files.pythonhosted.org/packages/38/e8/ae50429b9f39a056738b47e3144602b2ca00a55f92df6d1808d5605ccf91/ogb-1.2.2-py3-none-any.whl (45kB)\n",
            "Requirement already satisfied: tqdm>=4.29.0 in /usr/local/lib/python3.6/dist-packages (from ogb) (4.41.1)\n",
            "Requirement already satisfied: urllib3>=1.24.0 in /usr/local/lib/python3.6/dist-packages (from ogb) (1.24.3)\n",
            "Requirement already satisfied: torch>=1.2.0 in /usr/local/lib/python3.6/dist-packages (from ogb) (1.6.0+cu101)\n",
            "Collecting outdated>=0.2.0\n",
            "Downloading https://files.pythonhosted.org/packages/86/70/2f166266438a30e94140f00c99c0eac1c45807981052a1d4c123660e1323/outdated-0.2.0.tar.gz\n",
            "Requirement already satisfied: six>=1.12.0 in /usr/local/lib/python3.6/dist-packages (from ogb) (1.15.0)\n",
            "Requirement already satisfied: pandas>=0.24.0 in /usr/local/lib/python3.6/dist-packages (from ogb) (1.0.5)\n",
            "Requirement already satisfied: numpy>=1.16.0 in /usr/local/lib/python3.6/dist-packages (from ogb) (1.18.5)\n",
            "Requirement already satisfied: scikit-learn>=0.20.0 in /usr/local/lib/python3.6/dist-packages (from ogb) (0.22.2.post1)\n",
            "Requirement already satisfied: future in /usr/local/lib/python3.6/dist-packages (from torch>=1.2.0->ogb) (0.16.0)\n",
            "Collecting littleutils\n",
            "Downloading https://files.pythonhosted.org/packages/4e/b1/bb4e06f010947d67349f863b6a2ad71577f85590180a935f60543f622652/littleutils-0.2.2.tar.gz\n",
            "Requirement already satisfied: requests in /usr/local/lib/python3.6/dist-packages (from outdated>=0.2.0->ogb) (2.23.0)\n",
            "Requirement already satisfied: python-dateutil>=2.6.1 in /usr/local/lib/python3.6/dist-packages (from pandas>=0.24.0->ogb) (2.8.1)\n",
            "Requirement already satisfied: pytz>=2017.2 in /usr/local/lib/python3.6/dist-packages (from pandas>=0.24.0->ogb) (2018.9)\n",
            "Requirement already satisfied: scipy>=0.17.0 in /usr/local/lib/python3.6/dist-packages (from scikit-learn>=0.20.0->ogb) (1.4.1)\n",
            "Requirement already satisfied: joblib>=0.11 in /usr/local/lib/python3.6/dist-packages (from scikit-learn>=0.20.0->ogb) (0.16.0)\n",
            "Requirement already satisfied: chardet<4,>=3.0.2 in /usr/local/lib/python3.6/dist-packages (from requests->outdated>=0.2.0->ogb) (3.0.4)\n",
            "Requirement already satisfied: idna<3,>=2.5 in /usr/local/lib/python3.6/dist-packages (from requests->outdated>=0.2.0->ogb) (2.10)\n",
            "Requirement already satisfied: certifi>=2017.4.17 in /usr/local/lib/python3.6/dist-packages (from requests->outdated>=0.2.0->ogb) (2020.6.20)\n",
            "Building wheels for collected packages: outdated, littleutils\n",
            "Building wheel for outdated (setup.py): started\n",
            "Building wheel for outdated (setup.py): finished with status 'done'\n",
            "Created wheel for outdated: filename=outdated-0.2.0-cp36-none-any.whl size=4961 sha256=9cd2a0d52effefeffb570a5222a1ca44466c3d834fa554b7e142d36a7cb04bec\n",
            "Stored in directory: /root/.cache/pip/wheels/fd/7c/ef/814f514d31197310872b5abf353feb8fef9d67ee658e1e7e39\n",
            "Building wheel for littleutils (setup.py): started\n",
            "Building wheel for littleutils (setup.py): finished with status 'done'\n",
            "Created wheel for littleutils: filename=littleutils-0.2.2-cp36-none-any.whl size=7051 sha256=2c00fc750daf52a0ec2377c63e91e17394374204070a85b76df5bb774c99eb72\n",
            "Stored in directory: /root/.cache/pip/wheels/53/16/9f/ac67d15c40243754fd73f620e1b9b6dedc20492ecc19a2bae1\n",
            "Successfully built outdated littleutils\n",
            "Installing collected packages: littleutils, outdated, ogb\n",
            "Successfully installed littleutils-0.2.2 ogb-1.2.2 outdated-0.2.0\n"
          ],
          "name": "stdout"
        }
      ]
    },
    {
      "cell_type": "code",
      "metadata": {
        "id": "CfV3bYBN3Ai_",
        "colab_type": "code",
        "colab": {}
      },
      "source": [
        "# Lint as: python3\n",
        "\"\"\"Extra functions for manipulating GraphsTuple objects.\"\"\"\n",
        "from typing import Iterator\n",
        "\n",
        "import graph_nets\n",
        "import numpy as np\n",
        "import tensorflow.compat.v2 as tf\n",
        "import tree\n",
        "\n",
        "\n",
        "GraphsTuple = graph_nets.graphs.GraphsTuple\n",
        "\n",
        "# Alias to mirror the tf version.\n",
        "cast_to_np = graph_nets.utils_tf.nest_to_numpy\n",
        "\n",
        "# Numpy and tf compatible version of graph_nets.utils_tf.get_num_graphs\n",
        "get_num_graphs = lambda graph: graph.n_node.shape[0]\n",
        "\n",
        "\n",
        "def get_input_spec(x: GraphsTuple) -> tf.TensorSpec:\n",
        "  \"\"\"Gets input signature for a graphstuple, useful for tf.function.\"\"\"\n",
        "  return graph_nets.utils_tf.specs_from_graphs_tuple(x, dynamic_num_graphs=True)\n",
        "\n",
        "\n",
        "def print_graphs_tuple(graphs: GraphsTuple):\n",
        "  \"\"\"Print a graph tuple's shapes and contents.\"\"\"\n",
        "  print(\"Shapes of GraphsTuple's fields:\")\n",
        "  print(\n",
        "      graphs.map(\n",
        "          lambda x: x if x is None else x.shape,\n",
        "          fields=graph_nets.graphs.ALL_FIELDS))\n",
        "\n",
        "\n",
        "def cast_to_tf(graphs: GraphsTuple) -> GraphsTuple:\n",
        "  \"\"\"Convert GraphsTuple numpy arrays to tf.Tensor.\"\"\"\n",
        "\n",
        "  def cast_fn(x):\n",
        "    return tf.convert_to_tensor(x) if isinstance(x, np.ndarray) else x\n",
        "\n",
        "  return tree.map_structure(cast_fn, graphs)\n",
        "\n",
        "\n",
        "def split_graphs_tuple(graphs: GraphsTuple) -> Iterator[GraphsTuple]:\n",
        "  \"\"\"Converts several grouped graphs into a list of single graphs.\"\"\"\n",
        "  n = get_num_graphs(graphs)\n",
        "  nodes = []\n",
        "  node_offsets = [0] + np.cumsum(graphs.n_node).tolist()\n",
        "  for i, j in zip(node_offsets[:-1], node_offsets[1:]):\n",
        "    nodes.append(graphs.nodes[i:j])\n",
        "  edges = []\n",
        "  has_edges = graphs.edges is not None\n",
        "  receivers, senders = [], []\n",
        "  edge_offsets = [0] + np.cumsum(graphs.n_edge).tolist()\n",
        "  for node_offset, i, j in zip(node_offsets[:-1], edge_offsets[:-1],\n",
        "                               edge_offsets[1:]):\n",
        "    if has_edges:\n",
        "      edges.append(graphs.edges[i:j])\n",
        "    else:\n",
        "      edges.append(None)\n",
        "\n",
        "    receivers.append(graphs.receivers[i:j] - node_offset)\n",
        "    senders.append(graphs.senders[i:j] - node_offset)\n",
        "\n",
        "  if graphs.globals is None:\n",
        "    g_globals = [None for i in range(n)]\n",
        "  else:\n",
        "    g_globals = [graphs.globals[i] for i in range(n)]\n",
        "\n",
        "  graph_list = map(GraphsTuple, nodes, edges, receivers, senders, g_globals,\n",
        "                   graphs.n_node[:, np.newaxis], graphs.n_edge[:, np.newaxis])\n",
        "\n",
        "  return graph_list\n",
        "\n",
        "\n",
        "def get_graphs_tf(graphs: GraphsTuple, indices: np.ndarray) -> GraphsTuple:\n",
        "  \"\"\"Gets a new graphstuple (tf) based on a list of indices.\"\"\"\n",
        "  node_indices = tf.concat([tf.constant([0]), tf.cumsum(graphs.n_node)], axis=0)\n",
        "  node_starts = tf.gather(node_indices, indices)\n",
        "  node_ends = tf.gather(node_indices, indices + 1)\n",
        "  node_slice = tf.ragged.range(node_starts, node_ends).values\n",
        "  nodes = tf.gather(graphs.nodes, node_slice)\n",
        "\n",
        "  edge_indices = tf.concat([tf.constant([0]), tf.cumsum(graphs.n_edge)], axis=0)\n",
        "  edge_starts = tf.gather(edge_indices, indices)\n",
        "  edge_ends = tf.gather(edge_indices, indices + 1)\n",
        "  edge_slice = tf.ragged.range(edge_starts, edge_ends).values\n",
        "\n",
        "  edges = tf.gather(graphs.edges,\n",
        "                    edge_slice) if graphs.edges is not None else None\n",
        "\n",
        "  n_edge = tf.gather(graphs.n_edge, indices)\n",
        "  n_node = tf.gather(graphs.n_node, indices)\n",
        "\n",
        "  offsets = tf.repeat(node_starts, tf.gather(graphs.n_edge, indices))\n",
        "  senders = tf.gather(graphs.senders, edge_slice) - offsets\n",
        "  receivers = tf.gather(graphs.receivers, edge_slice) - offsets\n",
        "  new_offsets = tf.concat([tf.constant([0]), tf.cumsum(n_node)], axis=0)\n",
        "  senders = senders + tf.repeat(new_offsets[:-1], n_edge)\n",
        "  receivers = receivers + tf.repeat(new_offsets[:-1], n_edge)\n",
        "\n",
        "  g_globals = tf.gather(graphs.globals,\n",
        "                        indices) if graphs.globals is not None else None\n",
        "\n",
        "  return GraphsTuple(\n",
        "      nodes=nodes,\n",
        "      edges=edges,\n",
        "      globals=g_globals,\n",
        "      senders=senders,\n",
        "      receivers=receivers,\n",
        "      n_node=n_node,\n",
        "      n_edge=n_edge)\n"
      ],
      "execution_count": 38,
      "outputs": []
    },
    {
      "cell_type": "code",
      "metadata": {
        "id": "mIErE0hO3GKA",
        "colab_type": "code",
        "colab": {
          "base_uri": "https://localhost:8080/",
          "height": 230
        },
        "outputId": "c86572d2-1630-44b2-cf5f-ddff78efad5c"
      },
      "source": [
        "def save_graphtuples(filename: Text, graph: types.GraphsTuple):\n",
        "  \"\"\"Save a list of graphstuples with np.save.\"\"\"\n",
        "  np_graphs = graph_utils.split_graphs_tuple(graph_utils.cast_to_np(graph))\n",
        "  data_dicts = list(\n",
        "      map(graph_nets.utils_np.graphs_tuple_to_data_dicts, np_graphs))\n",
        "  data_utils.cns_saver(filename, lambda f: np.save(f, data_dicts))\n",
        "\n",
        "\n",
        "def load_graphstuples(filename: Text) -> types.GraphsTuple:\n",
        "  \"\"\"Load a list of graphstuples with np.load.\"\"\"\n",
        "  data = data_utils.cns_loader(filename,\n",
        "                               lambda f: np.load(f, allow_pickle=True))\n",
        "  return list(map(graph_nets.utils_tf.data_dicts_to_graphs_tuple, data))"
      ],
      "execution_count": 39,
      "outputs": [
        {
          "output_type": "error",
          "ename": "NameError",
          "evalue": "ignored",
          "traceback": [
            "\u001b[0;31m---------------------------------------------------------------------------\u001b[0m",
            "\u001b[0;31mNameError\u001b[0m                                 Traceback (most recent call last)",
            "\u001b[0;32m<ipython-input-39-a4a5c20decf8>\u001b[0m in \u001b[0;36m<module>\u001b[0;34m()\u001b[0m\n\u001b[0;32m----> 1\u001b[0;31m \u001b[0;32mdef\u001b[0m \u001b[0msave_graphtuples\u001b[0m\u001b[0;34m(\u001b[0m\u001b[0mfilename\u001b[0m\u001b[0;34m:\u001b[0m \u001b[0mText\u001b[0m\u001b[0;34m,\u001b[0m \u001b[0mgraph\u001b[0m\u001b[0;34m:\u001b[0m \u001b[0mtypes\u001b[0m\u001b[0;34m.\u001b[0m\u001b[0mGraphsTuple\u001b[0m\u001b[0;34m)\u001b[0m\u001b[0;34m:\u001b[0m\u001b[0;34m\u001b[0m\u001b[0;34m\u001b[0m\u001b[0m\n\u001b[0m\u001b[1;32m      2\u001b[0m   \u001b[0;34m\"\"\"Save a list of graphstuples with np.save.\"\"\"\u001b[0m\u001b[0;34m\u001b[0m\u001b[0;34m\u001b[0m\u001b[0m\n\u001b[1;32m      3\u001b[0m   \u001b[0mnp_graphs\u001b[0m \u001b[0;34m=\u001b[0m \u001b[0mgraph_utils\u001b[0m\u001b[0;34m.\u001b[0m\u001b[0msplit_graphs_tuple\u001b[0m\u001b[0;34m(\u001b[0m\u001b[0mgraph_utils\u001b[0m\u001b[0;34m.\u001b[0m\u001b[0mcast_to_np\u001b[0m\u001b[0;34m(\u001b[0m\u001b[0mgraph\u001b[0m\u001b[0;34m)\u001b[0m\u001b[0;34m)\u001b[0m\u001b[0;34m\u001b[0m\u001b[0;34m\u001b[0m\u001b[0m\n\u001b[1;32m      4\u001b[0m   data_dicts = list(\n\u001b[1;32m      5\u001b[0m       map(graph_nets.utils_np.graphs_tuple_to_data_dicts, np_graphs))\n",
            "\u001b[0;31mNameError\u001b[0m: name 'Text' is not defined"
          ]
        }
      ]
    },
    {
      "cell_type": "markdown",
      "metadata": {
        "colab_type": "text",
        "id": "T-CPqE95ovu1"
      },
      "source": [
        "# Import modules\n"
      ]
    },
    {
      "cell_type": "code",
      "metadata": {
        "colab_type": "code",
        "id": "l7xIWY9Qovu8",
        "colab": {
          "base_uri": "https://localhost:8080/",
          "height": 84
        },
        "outputId": "9823bdad-b5e7-470b-85e3-b0940b386148"
      },
      "source": [
        "from collections import OrderedDict\n",
        "import tqdm.auto as tqdm\n",
        "\n",
        "import numpy as np\n",
        "import scipy as sp\n",
        "import pandas as pd\n",
        "import matplotlib.pyplot as plt\n",
        "import seaborn as sns\n",
        "\n",
        "\n",
        "import tensorflow as tf\n",
        "import sonnet as snt\n",
        "import graph_nets\n",
        "import ogb\n",
        "\n",
        "colab_utils.print_module_versions([tf, snt, ogb])\n",
        "print(f'Tiene GPU? {tf.config.list_physical_devices(\"gpu\")}')\n",
        "colab_utils.matplotlib_settings()"
      ],
      "execution_count": 5,
      "outputs": [
        {
          "output_type": "stream",
          "text": [
            "tensorflow: 2.3.0\n",
            "sonnet    : 2.0.0\n",
            "ogb       : 1.2.2\n",
            "Tiene GPU? []\n"
          ],
          "name": "stdout"
        }
      ]
    },
    {
      "cell_type": "markdown",
      "metadata": {
        "id": "KjDRL90MpxOV",
        "colab_type": "text"
      },
      "source": [
        "## Load a dataset"
      ]
    },
    {
      "cell_type": "code",
      "metadata": {
        "id": "SQ8JKbalphMa",
        "colab_type": "code",
        "colab": {
          "base_uri": "https://localhost:8080/",
          "height": 34
        },
        "outputId": "64bd2d89-bfe2-4eda-bf7d-1c6b5b85f5b1"
      },
      "source": [
        "from ogb.nodeproppred import NodePropPredDataset\n",
        "\n",
        "dataset = NodePropPredDataset(name = 'ogbn-arxiv')\n",
        "dataset"
      ],
      "execution_count": 9,
      "outputs": [
        {
          "output_type": "execute_result",
          "data": {
            "text/plain": [
              "NodePropPredDataset(1)"
            ]
          },
          "metadata": {
            "tags": []
          },
          "execution_count": 9
        }
      ]
    },
    {
      "cell_type": "code",
      "metadata": {
        "id": "ScP_pSXkvV0Q",
        "colab_type": "code",
        "colab": {
          "base_uri": "https://localhost:8080/",
          "height": 50
        },
        "outputId": "e27c73c8-0f98-4ed0-ebf0-70e9a48b4ed9"
      },
      "source": [
        "split_indices = dataset.get_idx_split()\n",
        "print(split_indices.keys())\n",
        "len(split_indices['train']),len(split_indices['test'])"
      ],
      "execution_count": 14,
      "outputs": [
        {
          "output_type": "stream",
          "text": [
            "dict_keys(['train', 'valid', 'test'])\n"
          ],
          "name": "stdout"
        },
        {
          "output_type": "execute_result",
          "data": {
            "text/plain": [
              "(90941, 48603)"
            ]
          },
          "metadata": {
            "tags": []
          },
          "execution_count": 14
        }
      ]
    },
    {
      "cell_type": "code",
      "metadata": {
        "id": "48l8jLqCw_Ly",
        "colab_type": "code",
        "colab": {
          "base_uri": "https://localhost:8080/",
          "height": 462
        },
        "outputId": "28765127-d094-4fb1-fccb-06b6da71dc9e"
      },
      "source": [
        "dataset.meta_info[['ogbn-arxiv']]"
      ],
      "execution_count": 21,
      "outputs": [
        {
          "output_type": "execute_result",
          "data": {
            "text/html": [
              "<div>\n",
              "<style scoped>\n",
              "    .dataframe tbody tr th:only-of-type {\n",
              "        vertical-align: middle;\n",
              "    }\n",
              "\n",
              "    .dataframe tbody tr th {\n",
              "        vertical-align: top;\n",
              "    }\n",
              "\n",
              "    .dataframe thead th {\n",
              "        text-align: right;\n",
              "    }\n",
              "</style>\n",
              "<table border=\"1\" class=\"dataframe\">\n",
              "  <thead>\n",
              "    <tr style=\"text-align: right;\">\n",
              "      <th></th>\n",
              "      <th>ogbn-arxiv</th>\n",
              "    </tr>\n",
              "  </thead>\n",
              "  <tbody>\n",
              "    <tr>\n",
              "      <th>add_inverse_edge</th>\n",
              "      <td>False</td>\n",
              "    </tr>\n",
              "    <tr>\n",
              "      <th>additional edge files</th>\n",
              "      <td>None</td>\n",
              "    </tr>\n",
              "    <tr>\n",
              "      <th>additional node files</th>\n",
              "      <td>node_year</td>\n",
              "    </tr>\n",
              "    <tr>\n",
              "      <th>download_name</th>\n",
              "      <td>arxiv</td>\n",
              "    </tr>\n",
              "    <tr>\n",
              "      <th>eval metric</th>\n",
              "      <td>acc</td>\n",
              "    </tr>\n",
              "    <tr>\n",
              "      <th>has_edge_attr</th>\n",
              "      <td>False</td>\n",
              "    </tr>\n",
              "    <tr>\n",
              "      <th>has_node_attr</th>\n",
              "      <td>True</td>\n",
              "    </tr>\n",
              "    <tr>\n",
              "      <th>is hetero</th>\n",
              "      <td>False</td>\n",
              "    </tr>\n",
              "    <tr>\n",
              "      <th>num classes</th>\n",
              "      <td>40</td>\n",
              "    </tr>\n",
              "    <tr>\n",
              "      <th>num tasks</th>\n",
              "      <td>1</td>\n",
              "    </tr>\n",
              "    <tr>\n",
              "      <th>split</th>\n",
              "      <td>time</td>\n",
              "    </tr>\n",
              "    <tr>\n",
              "      <th>task type</th>\n",
              "      <td>multiclass classification</td>\n",
              "    </tr>\n",
              "    <tr>\n",
              "      <th>url</th>\n",
              "      <td>https://snap.stanford.edu/ogb/data/nodeproppre...</td>\n",
              "    </tr>\n",
              "    <tr>\n",
              "      <th>version</th>\n",
              "      <td>1</td>\n",
              "    </tr>\n",
              "  </tbody>\n",
              "</table>\n",
              "</div>"
            ],
            "text/plain": [
              "                                                              ogbn-arxiv\n",
              "add_inverse_edge                                                   False\n",
              "additional edge files                                               None\n",
              "additional node files                                          node_year\n",
              "download_name                                                      arxiv\n",
              "eval metric                                                          acc\n",
              "has_edge_attr                                                      False\n",
              "has_node_attr                                                       True\n",
              "is hetero                                                          False\n",
              "num classes                                                           40\n",
              "num tasks                                                              1\n",
              "split                                                               time\n",
              "task type                                      multiclass classification\n",
              "url                    https://snap.stanford.edu/ogb/data/nodeproppre...\n",
              "version                                                                1"
            ]
          },
          "metadata": {
            "tags": []
          },
          "execution_count": 21
        }
      ]
    },
    {
      "cell_type": "code",
      "metadata": {
        "id": "nPti4g2a2KMS",
        "colab_type": "code",
        "colab": {
          "base_uri": "https://localhost:8080/",
          "height": 134
        },
        "outputId": "44c14bcc-1137-43da-88da-a7b1ae211a69"
      },
      "source": [
        "import os\n",
        "\n",
        "adf = pd.read_csv(os.path.join('dataset/ogbn_arxiv/raw', 'node-label.csv.gz'), compression=\"gzip\", header = None).values\n",
        "adf"
      ],
      "execution_count": 37,
      "outputs": [
        {
          "output_type": "execute_result",
          "data": {
            "text/plain": [
              "array([[ 4],\n",
              "       [ 5],\n",
              "       [28],\n",
              "       ...,\n",
              "       [10],\n",
              "       [ 4],\n",
              "       [ 1]])"
            ]
          },
          "metadata": {
            "tags": []
          },
          "execution_count": 37
        }
      ]
    },
    {
      "cell_type": "code",
      "metadata": {
        "id": "6mad6cB4xN_L",
        "colab_type": "code",
        "colab": {
          "base_uri": "https://localhost:8080/",
          "height": 511
        },
        "outputId": "3f5e477c-faf1-4f9c-a282-4ae7bf456997"
      },
      "source": [
        "sns.countplot(dataset.labels.ravel())"
      ],
      "execution_count": 29,
      "outputs": [
        {
          "output_type": "execute_result",
          "data": {
            "text/plain": [
              "<matplotlib.axes._subplots.AxesSubplot at 0x7f7ca6aeaef0>"
            ]
          },
          "metadata": {
            "tags": []
          },
          "execution_count": 29
        },
        {
          "output_type": "display_data",
          "data": {
            "image/png": "[encoded data removed]",
            "text/plain": [
              "<Figure size 864x576 with 1 Axes>"
            ]
          },
          "metadata": {
            "tags": [],
            "image/png": {
              "width": 784,
              "height": 477
            }
          }
        }
      ]
    },
    {
      "cell_type": "code",
      "metadata": {
        "id": "rIDkPTLD0lSk",
        "colab_type": "code",
        "colab": {
          "base_uri": "https://localhost:8080/",
          "height": 689
        },
        "outputId": "305f099e-84ac-4f89-c068-f8dfe8b3ad85"
      },
      "source": [
        "unique, counts = np.unique(dataset.labels.ravel(), return_counts=True)\n",
        "dict(zip(unique, counts))"
      ],
      "execution_count": 33,
      "outputs": [
        {
          "output_type": "execute_result",
          "data": {
            "text/plain": [
              "{0: 565,\n",
              " 1: 687,\n",
              " 2: 4839,\n",
              " 3: 2080,\n",
              " 4: 5862,\n",
              " 5: 4958,\n",
              " 6: 1618,\n",
              " 7: 589,\n",
              " 8: 6232,\n",
              " 9: 2820,\n",
              " 10: 7869,\n",
              " 11: 750,\n",
              " 12: 29,\n",
              " 13: 2358,\n",
              " 14: 597,\n",
              " 15: 403,\n",
              " 16: 27321,\n",
              " 17: 515,\n",
              " 18: 749,\n",
              " 19: 2877,\n",
              " 20: 2076,\n",
              " 21: 393,\n",
              " 22: 1903,\n",
              " 23: 2834,\n",
              " 24: 22187,\n",
              " 25: 1257,\n",
              " 26: 4605,\n",
              " 27: 4801,\n",
              " 28: 21406,\n",
              " 29: 416,\n",
              " 30: 11814,\n",
              " 31: 2828,\n",
              " 32: 411,\n",
              " 33: 1271,\n",
              " 34: 7867,\n",
              " 35: 127,\n",
              " 36: 3524,\n",
              " 37: 2369,\n",
              " 38: 1507,\n",
              " 39: 2029}"
            ]
          },
          "metadata": {
            "tags": []
          },
          "execution_count": 33
        }
      ]
    },
    {
      "cell_type": "code",
      "metadata": {
        "id": "2r5Ys_ZnwoOQ",
        "colab_type": "code",
        "colab": {
          "base_uri": "https://localhost:8080/",
          "height": 420
        },
        "outputId": "91c60e73-0100-492b-c029-9898f270d2b8"
      },
      "source": [
        "dataset.graph"
      ],
      "execution_count": 17,
      "outputs": [
        {
          "output_type": "execute_result",
          "data": {
            "text/plain": [
              "{'edge_feat': None,\n",
              " 'edge_index': array([[104447,  15858, 107156, ...,  45118,  45118,  45118],\n",
              "        [ 13091,  47283,  69161, ..., 162473, 162537,  72717]]),\n",
              " 'node_feat': array([[-0.057943, -0.05253 , -0.072603, ...,  0.173364, -0.172796,\n",
              "         -0.140059],\n",
              "        [-0.1245  , -0.070665, -0.325202, ...,  0.068524, -0.372111,\n",
              "         -0.301036],\n",
              "        [-0.080242, -0.023328, -0.183787, ...,  0.109919,  0.117589,\n",
              "         -0.139883],\n",
              "        ...,\n",
              "        [-0.22053 , -0.036568, -0.402199, ...,  0.11336 , -0.161393,\n",
              "         -0.145171],\n",
              "        [-0.138236,  0.040885, -0.251811, ..., -0.08929 , -0.041253,\n",
              "         -0.376132],\n",
              "        [-0.029875,  0.268417, -0.161124, ...,  0.120807,  0.077647,\n",
              "         -0.091018]], dtype=float32),\n",
              " 'node_year': array([[2013],\n",
              "        [2015],\n",
              "        [2014],\n",
              "        ...,\n",
              "        [2020],\n",
              "        [2020],\n",
              "        [2020]]),\n",
              " 'num_nodes': 169343}"
            ]
          },
          "metadata": {
            "tags": []
          },
          "execution_count": 17
        }
      ]
    }
  ]
}